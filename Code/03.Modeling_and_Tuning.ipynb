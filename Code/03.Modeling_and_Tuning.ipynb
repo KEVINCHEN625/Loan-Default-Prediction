{
 "cells": [
  {
   "cell_type": "code",
   "execution_count": 1,
   "id": "3df86ad8-6fc4-4898-826f-6d08c2bed434",
   "metadata": {},
   "outputs": [],
   "source": [
    "import pandas as pd\n",
    "import numpy as np\n",
    "import warnings \n",
    "import os\n",
    "import seaborn as sns\n",
    "import matplotlib.pyplot as plt"
   ]
  },
  {
   "cell_type": "code",
   "execution_count": 2,
   "id": "7c4ac82d-55b1-42f8-845b-f17f080678c5",
   "metadata": {},
   "outputs": [],
   "source": [
    "def setup_sns_english_theme():\n",
    "    \"\"\"\n",
    "    Configure Seaborn and Matplotlib for clean English-language visualizations.\n",
    "    This includes white background, clear gridlines, and suitable font sizes for notebooks or presentations.\n",
    "    \"\"\"\n",
    "\n",
    "    # Use Seaborn default settings (colors, styles, etc.)\n",
    "    sns.set()\n",
    "\n",
    "    # Set plot style: white background with grid\n",
    "    sns.set_style(\"whitegrid\")  # Options: 'darkgrid', 'whitegrid', 'dark', 'white', 'ticks'\n",
    "\n",
    "    # Set plot context: adjusts font size and element scaling\n",
    "    sns.set_context(\"talk\")  # Options: 'paper', 'notebook', 'talk', 'poster'\n",
    "\n",
    "    # Optional: set font family for Matplotlib (English sans-serif)\n",
    "    plt.rcParams['font.family'] = 'DejaVu Sans'  # This is default, can change to 'Arial' or 'Helvetica'\n",
    "\n",
    "    # Ensure minus signs display correctly on axes\n",
    "    plt.rcParams['axes.unicode_minus'] = True\n",
    "\n",
    "# Call this function at the top of your notebook\n",
    "setup_sns_english_theme()"
   ]
  },
  {
   "cell_type": "code",
   "execution_count": 2,
   "id": "970b354e-9b8a-4729-8b62-ee26b4555d8e",
   "metadata": {},
   "outputs": [],
   "source": [
    "def reduce_mem_usage(df, verbose=True):\n",
    "    \"\"\"\n",
    "    Reduce memory usage of a DataFrame by downcasting numeric columns\n",
    "    and converting object columns to category where appropriate\n",
    "    Datetime columns are preseved(skip)\n",
    "\n",
    "    Paremeters:\n",
    "    - df (pd.DataFrame): The input DataFrame to optimize\n",
    "    - verbose (bool): If True, prints memory usage info\n",
    "                      If False, just execute the operation\n",
    "\n",
    "    Returns:\n",
    "    - df (pd.DataFrame): Optimized DataFrame\n",
    "    \"\"\"\n",
    "    # Calculate memory usage before optimization\n",
    "    # 'deep=True' ensures object-type columns (e.g. strings) are fully measured\n",
    "    # Divide by 1024^2 to convert bytes to megabytes\n",
    "    start_mem = df.memory_usage(deep=True).sum() / 1024**2\n",
    "\n",
    "    # Iterate through each columns in the DataFrame\n",
    "    for col in df.columns:\n",
    "        col_type = df[col].dtype\n",
    "\n",
    "        # Skip datetime columns to avoid corrupting temporal data\n",
    "        if pd.api.types.is_datetime64_any_dtype(col_type):\n",
    "            continue\n",
    "\n",
    "        # If the column is numeric(integer or float)\n",
    "        elif pd.api.types.is_numeric_dtype(col_type):\n",
    "            c_min = df[col].min()\n",
    "            c_max = df[col].max()\n",
    "\n",
    "            # If the column is an integer type\n",
    "            if pd.api.types.is_integer_dtype(col_type):\n",
    "                # Try downcasting to the smallest possible integer type\n",
    "                if c_min >= np.iinfo(np.int8).min and c_max <= np.iinfo(np.int8).max:\n",
    "                    df[col] = df[col].astype(np.int8)\n",
    "                elif c_min >= np.iinfo(np.int16).min and c_max <= np.iinfo(np.int16).max:\n",
    "                    df[col] = df[col].astype(np.int16)\n",
    "                elif c_min >= np.iinfo(np.int32).min and c_max <= np.iinfo(np.int32).max:\n",
    "                    df[col] = df[col].astype(np.int32)\n",
    "                else:\n",
    "                    df[col] = df[col].astype(np.int64)\n",
    "\n",
    "            # If the column is an float type\n",
    "            else:\n",
    "                # Try downcasting to float16, float32, or keep as float64\n",
    "                if c_min >= np.finfo(np.float16).min and c_max <= np.finfo(np.float16).max:\n",
    "                    df[col] = df[col].astype(np.float16)\n",
    "                elif c_min >= np.finfo(np.float32).min and c_max <= np.finfo(np.float32).max:\n",
    "                    df[col] = df[col].astype(np.float32)\n",
    "                #elif c_min >= np.finfo(np.float64).min and c_max <= np.finfo(np.float64).max:\n",
    "                else:\n",
    "                    df[col] = df[col].astype(np.float64)\n",
    "        # If the column is an object type\n",
    "        elif pd.api.types.is_object_dtype(col_type):\n",
    "            num_unique = df[col].nunique()\n",
    "            num_total = len(df[col])\n",
    "            # if the unique ratio is below 50%, convert to category for memory\n",
    "            if num_unique / num_total < 0.5:\n",
    "                df[col] = df[col].astype('category')\n",
    "\n",
    "        # Other types are not modified\n",
    "\n",
    "    # Calculate memory usage after optimization\n",
    "    end_mem = df.memory_usage(deep=True).sum() / 1024**2\n",
    "\n",
    "    if verbose:\n",
    "        # Print summary of memory usage before and after optimization\n",
    "        print(f\"Memory usage before optimization: {start_mem:.2f} MB\")\n",
    "        print(f\"Memory usage after optimization: {end_mem:.2f} MB\")\n",
    "        print(f\"Reduced by: {100 * (start_mem - end_mem) / start_mem:.1f}%\")\n",
    "\n",
    "    return df"
   ]
  },
  {
   "cell_type": "code",
   "execution_count": 3,
   "id": "52d8d393-3579-4383-bfc8-c437a656bf56",
   "metadata": {},
   "outputs": [],
   "source": [
    "data_os = pd.read_csv('data_train_os.csv')"
   ]
  },
  {
   "cell_type": "code",
   "execution_count": 4,
   "id": "cdbb7b50-0347-41d7-83ff-f32ce91d0909",
   "metadata": {},
   "outputs": [],
   "source": [
    "test_os = pd.read_csv('data_test_os.csv')"
   ]
  },
  {
   "cell_type": "code",
   "execution_count": 5,
   "id": "63862338-0e87-4cb2-af11-c5b5cf075398",
   "metadata": {},
   "outputs": [
    {
     "data": {
      "text/html": [
       "<div>\n",
       "<style scoped>\n",
       "    .dataframe tbody tr th:only-of-type {\n",
       "        vertical-align: middle;\n",
       "    }\n",
       "\n",
       "    .dataframe tbody tr th {\n",
       "        vertical-align: top;\n",
       "    }\n",
       "\n",
       "    .dataframe thead th {\n",
       "        text-align: right;\n",
       "    }\n",
       "</style>\n",
       "<table border=\"1\" class=\"dataframe\">\n",
       "  <thead>\n",
       "    <tr style=\"text-align: right;\">\n",
       "      <th></th>\n",
       "      <th>loanAmnt</th>\n",
       "      <th>term</th>\n",
       "      <th>interestRate</th>\n",
       "      <th>installment</th>\n",
       "      <th>grade</th>\n",
       "      <th>subGrade</th>\n",
       "      <th>employmentTitle</th>\n",
       "      <th>employmentLength</th>\n",
       "      <th>homeOwnership</th>\n",
       "      <th>annualIncome</th>\n",
       "      <th>...</th>\n",
       "      <th>n7</th>\n",
       "      <th>n8</th>\n",
       "      <th>n9</th>\n",
       "      <th>n10</th>\n",
       "      <th>n11</th>\n",
       "      <th>n12</th>\n",
       "      <th>n13</th>\n",
       "      <th>n14</th>\n",
       "      <th>issueDateDT</th>\n",
       "      <th>isDefault</th>\n",
       "    </tr>\n",
       "  </thead>\n",
       "  <tbody>\n",
       "    <tr>\n",
       "      <th>0</th>\n",
       "      <td>35000.0</td>\n",
       "      <td>5</td>\n",
       "      <td>19.52</td>\n",
       "      <td>917.97</td>\n",
       "      <td>5</td>\n",
       "      <td>21</td>\n",
       "      <td>320.0</td>\n",
       "      <td>2.0</td>\n",
       "      <td>2</td>\n",
       "      <td>110000.0</td>\n",
       "      <td>...</td>\n",
       "      <td>4.0</td>\n",
       "      <td>12.0</td>\n",
       "      <td>2.0</td>\n",
       "      <td>7.0</td>\n",
       "      <td>0.0</td>\n",
       "      <td>0.0</td>\n",
       "      <td>0.0</td>\n",
       "      <td>2.0</td>\n",
       "      <td>2587</td>\n",
       "      <td>1</td>\n",
       "    </tr>\n",
       "    <tr>\n",
       "      <th>1</th>\n",
       "      <td>18000.0</td>\n",
       "      <td>5</td>\n",
       "      <td>18.49</td>\n",
       "      <td>461.90</td>\n",
       "      <td>4</td>\n",
       "      <td>16</td>\n",
       "      <td>219843.0</td>\n",
       "      <td>5.0</td>\n",
       "      <td>0</td>\n",
       "      <td>46000.0</td>\n",
       "      <td>...</td>\n",
       "      <td>NaN</td>\n",
       "      <td>NaN</td>\n",
       "      <td>NaN</td>\n",
       "      <td>13.0</td>\n",
       "      <td>NaN</td>\n",
       "      <td>NaN</td>\n",
       "      <td>NaN</td>\n",
       "      <td>NaN</td>\n",
       "      <td>1888</td>\n",
       "      <td>0</td>\n",
       "    </tr>\n",
       "    <tr>\n",
       "      <th>2</th>\n",
       "      <td>12000.0</td>\n",
       "      <td>5</td>\n",
       "      <td>16.99</td>\n",
       "      <td>298.17</td>\n",
       "      <td>4</td>\n",
       "      <td>17</td>\n",
       "      <td>31698.0</td>\n",
       "      <td>8.0</td>\n",
       "      <td>0</td>\n",
       "      <td>74000.0</td>\n",
       "      <td>...</td>\n",
       "      <td>4.0</td>\n",
       "      <td>5.0</td>\n",
       "      <td>3.0</td>\n",
       "      <td>11.0</td>\n",
       "      <td>0.0</td>\n",
       "      <td>0.0</td>\n",
       "      <td>0.0</td>\n",
       "      <td>4.0</td>\n",
       "      <td>3044</td>\n",
       "      <td>0</td>\n",
       "    </tr>\n",
       "    <tr>\n",
       "      <th>3</th>\n",
       "      <td>3000.0</td>\n",
       "      <td>3</td>\n",
       "      <td>12.99</td>\n",
       "      <td>101.07</td>\n",
       "      <td>3</td>\n",
       "      <td>11</td>\n",
       "      <td>54.0</td>\n",
       "      <td>NaN</td>\n",
       "      <td>1</td>\n",
       "      <td>29000.0</td>\n",
       "      <td>...</td>\n",
       "      <td>10.0</td>\n",
       "      <td>15.0</td>\n",
       "      <td>7.0</td>\n",
       "      <td>12.0</td>\n",
       "      <td>0.0</td>\n",
       "      <td>0.0</td>\n",
       "      <td>0.0</td>\n",
       "      <td>4.0</td>\n",
       "      <td>3196</td>\n",
       "      <td>0</td>\n",
       "    </tr>\n",
       "    <tr>\n",
       "      <th>4</th>\n",
       "      <td>2050.0</td>\n",
       "      <td>3</td>\n",
       "      <td>7.69</td>\n",
       "      <td>63.95</td>\n",
       "      <td>1</td>\n",
       "      <td>3</td>\n",
       "      <td>180083.0</td>\n",
       "      <td>9.0</td>\n",
       "      <td>0</td>\n",
       "      <td>35000.0</td>\n",
       "      <td>...</td>\n",
       "      <td>10.0</td>\n",
       "      <td>18.0</td>\n",
       "      <td>3.0</td>\n",
       "      <td>12.0</td>\n",
       "      <td>0.0</td>\n",
       "      <td>0.0</td>\n",
       "      <td>0.0</td>\n",
       "      <td>3.0</td>\n",
       "      <td>2679</td>\n",
       "      <td>0</td>\n",
       "    </tr>\n",
       "  </tbody>\n",
       "</table>\n",
       "<p>5 rows × 46 columns</p>\n",
       "</div>"
      ],
      "text/plain": [
       "   loanAmnt  term  interestRate  installment  grade  subGrade  \\\n",
       "0   35000.0     5         19.52       917.97      5        21   \n",
       "1   18000.0     5         18.49       461.90      4        16   \n",
       "2   12000.0     5         16.99       298.17      4        17   \n",
       "3    3000.0     3         12.99       101.07      3        11   \n",
       "4    2050.0     3          7.69        63.95      1         3   \n",
       "\n",
       "   employmentTitle  employmentLength  homeOwnership  annualIncome  ...    n7  \\\n",
       "0            320.0               2.0              2      110000.0  ...   4.0   \n",
       "1         219843.0               5.0              0       46000.0  ...   NaN   \n",
       "2          31698.0               8.0              0       74000.0  ...   4.0   \n",
       "3             54.0               NaN              1       29000.0  ...  10.0   \n",
       "4         180083.0               9.0              0       35000.0  ...  10.0   \n",
       "\n",
       "     n8   n9   n10  n11  n12  n13  n14  issueDateDT  isDefault  \n",
       "0  12.0  2.0   7.0  0.0  0.0  0.0  2.0         2587          1  \n",
       "1   NaN  NaN  13.0  NaN  NaN  NaN  NaN         1888          0  \n",
       "2   5.0  3.0  11.0  0.0  0.0  0.0  4.0         3044          0  \n",
       "3  15.0  7.0  12.0  0.0  0.0  0.0  4.0         3196          0  \n",
       "4  18.0  3.0  12.0  0.0  0.0  0.0  3.0         2679          0  \n",
       "\n",
       "[5 rows x 46 columns]"
      ]
     },
     "execution_count": 5,
     "metadata": {},
     "output_type": "execute_result"
    }
   ],
   "source": [
    "data_os.head()"
   ]
  },
  {
   "cell_type": "code",
   "execution_count": 6,
   "id": "535d6006-45ba-4870-ba71-b4d3b7dbe9c1",
   "metadata": {},
   "outputs": [
    {
     "name": "stdout",
     "output_type": "stream",
     "text": [
      "Memory usage before optimization: 223.87 MB\n",
      "Memory usage after optimization: 53.53 MB\n",
      "Reduced by: 76.1%\n",
      "Memory usage before optimization: 68.66 MB\n",
      "Memory usage after optimization: 16.59 MB\n",
      "Reduced by: 75.8%\n"
     ]
    }
   ],
   "source": [
    "data_os = reduce_mem_usage(data_os)\n",
    "test_os = reduce_mem_usage(test_os)"
   ]
  },
  {
   "cell_type": "code",
   "execution_count": 7,
   "id": "5cad3250-0c22-48e3-b862-c3c6feb87b7b",
   "metadata": {},
   "outputs": [
    {
     "name": "stdout",
     "output_type": "stream",
     "text": [
      "(637893,) (637893, 45) (200000, 45)\n"
     ]
    }
   ],
   "source": [
    "y_os = data_os['isDefault']\n",
    "X_os = data_os.drop(['isDefault'], axis=1)\n",
    "print(y_os.shape, X_os.shape, test_os.shape)"
   ]
  },
  {
   "cell_type": "code",
   "execution_count": 14,
   "id": "b4cba2d3-5bf7-4a16-b702-74a6084ca4c9",
   "metadata": {},
   "outputs": [],
   "source": [
    "from sklearn.linear_model import LogisticRegression\n",
    "from sklearn.ensemble import RandomForestClassifier\n",
    "from sklearn.model_selection import KFold\n",
    "from sklearn.metrics import roc_auc_score\n",
    "import lightgbm as lgb\n",
    "import xgboost as xgb\n",
    "from catboost import CatBoostClassifier\n",
    "import numpy as np\n",
    "\n",
    "def evaluate_model_cv(model, X, y, n_splits=5, seed=2020, model_name=\"model\"):\n",
    "    \"\"\"\n",
    "    Perform K-Fold cross-validation and compute AUC for each fold.\n",
    "\n",
    "    Parameters:\n",
    "    - model: sklearn / xgb / cat model instance or None for LGB/XGB\n",
    "    - X: pd.DataFrame\n",
    "    - y: pd.Series\n",
    "    - n_splits: int, number of folds\n",
    "    - seed: int, random seed\n",
    "    - model_name: str, for display and internal control\n",
    "\n",
    "    Returns:\n",
    "    - list of AUC scores\n",
    "    \"\"\"\n",
    "    print(f\"\\n🚀 Running {model_name} with {n_splits}-fold CV...\")\n",
    "    kf = KFold(n_splits=n_splits, shuffle=True, random_state=seed)\n",
    "    scores = []\n",
    "\n",
    "    for fold, (train_idx, val_idx) in enumerate(kf.split(X, y)):\n",
    "        print(f\"\\n===== Fold {fold + 1} / {n_splits} =====\")\n",
    "        X_train, X_val = X.iloc[train_idx], X.iloc[val_idx]\n",
    "        y_train, y_val = y.iloc[train_idx], y.iloc[val_idx]\n",
    "\n",
    "        if model_name == \"XGBoost\":\n",
    "            dtrain = xgb.DMatrix(X_train, label=y_train)\n",
    "            dval = xgb.DMatrix(X_val, label=y_val)\n",
    "            params = {\n",
    "                'objective': 'binary:logistic',\n",
    "                'eval_metric': 'auc',\n",
    "                'verbosity': 0,\n",
    "                'seed': seed\n",
    "            }\n",
    "            xgb_model = xgb.train(params, dtrain, num_boost_round=100,\n",
    "                                  evals=[(dval, \"valid\")],\n",
    "                                  early_stopping_rounds=20,\n",
    "                                  verbose_eval=False)\n",
    "            val_preds = xgb_model.predict(dval)\n",
    "\n",
    "        elif model_name == \"CatBoost\":\n",
    "            cat_model = CatBoostClassifier(verbose=0, random_state=seed)\n",
    "            cat_model.fit(X_train, y_train)\n",
    "            val_preds = cat_model.predict_proba(X_val)[:, 1]\n",
    "\n",
    "        elif model_name == \"LightGBM\":\n",
    "            train_set = lgb.Dataset(X_train, label=y_train)\n",
    "            valid_set = lgb.Dataset(X_val, label=y_val)\n",
    "            params = {\n",
    "                'objective': 'binary',\n",
    "                'metric': 'auc',\n",
    "                'verbosity': -1,\n",
    "                'seed': seed\n",
    "            }\n",
    "            lgb_model = lgb.train(params, train_set, valid_sets=[valid_set],\n",
    "                                  num_boost_round=100,\n",
    "                                  callbacks=[lgb.early_stopping(stopping_rounds=200),\n",
    "                                             lgb.log_evaluation(period=200)])\n",
    "            val_preds = lgb_model.predict(X_val, num_iteration=lgb_model.best_iteration)\n",
    "\n",
    "        else:\n",
    "            model.fit(X_train, y_train)\n",
    "            val_preds = model.predict_proba(X_val)[:, 1]\n",
    "\n",
    "        auc = roc_auc_score(y_val, val_preds)\n",
    "        scores.append(auc)\n",
    "        print(f\"AUC: {auc:.4f}\")\n",
    "\n",
    "    print(f\"\\n📊 {model_name} CV AUCs: {[f'{s:.4f}' for s in scores]}\")\n",
    "    print(f\"Mean AUC: {np.mean(scores):.4f} | Std: {np.std(scores):.4f}\")\n",
    "    return scores\n",
    "\n",
    "# ==== Individual Model Runners ====\n",
    "\n",
    "def run_logistic_regression_baseline(X, y):\n",
    "    model = LogisticRegression()\n",
    "    return evaluate_model_cv(model, X, y, model_name=\"Logistic Regression\")\n",
    "\n",
    "def run_random_forest_baseline(X, y):\n",
    "    model = RandomForestClassifier()\n",
    "    return evaluate_model_cv(model, X, y, model_name=\"Random Forest\")\n",
    "\n",
    "def run_xgboost_baseline(X, y):\n",
    "    return evaluate_model_cv(None, X, y, model_name=\"XGBoost\")\n",
    "\n",
    "def run_catboost_baseline(X, y):\n",
    "    return evaluate_model_cv(None, X, y, model_name=\"CatBoost\")\n",
    "\n",
    "def run_lightgbm_baseline(X, y):\n",
    "    return evaluate_model_cv(None, X, y, model_name=\"LightGBM\")"
   ]
  },
  {
   "cell_type": "code",
   "execution_count": 15,
   "id": "ee7a1593-b1ad-4db4-ab53-5dc382a21b19",
   "metadata": {
    "scrolled": true
   },
   "outputs": [
    {
     "data": {
      "text/plain": [
       "loanAmnt              0\n",
       "term                  0\n",
       "interestRate          0\n",
       "installment           0\n",
       "grade                 0\n",
       "subGrade              0\n",
       "employmentTitle       0\n",
       "employmentLength      0\n",
       "homeOwnership         0\n",
       "annualIncome          0\n",
       "verificationStatus    0\n",
       "purpose               0\n",
       "postCode              0\n",
       "regionCode            0\n",
       "dti                   0\n",
       "delinquency_2years    0\n",
       "ficoRangeLow          0\n",
       "ficoRangeHigh         0\n",
       "openAcc               0\n",
       "pubRec                0\n",
       "pubRecBankruptcies    0\n",
       "revolBal              0\n",
       "revolUtil             0\n",
       "totalAcc              0\n",
       "initialListStatus     0\n",
       "applicationType       0\n",
       "earliesCreditLine     0\n",
       "title                 0\n",
       "policyCode            0\n",
       "n0                    0\n",
       "n1                    0\n",
       "n2                    0\n",
       "n3                    0\n",
       "n4                    0\n",
       "n5                    0\n",
       "n6                    0\n",
       "n7                    0\n",
       "n8                    0\n",
       "n9                    0\n",
       "n10                   0\n",
       "n11                   0\n",
       "n12                   0\n",
       "n13                   0\n",
       "n14                   0\n",
       "issueDateDT           0\n",
       "dtype: int64"
      ]
     },
     "execution_count": 15,
     "metadata": {},
     "output_type": "execute_result"
    }
   ],
   "source": [
    "X_os.isnull().sum()"
   ]
  },
  {
   "cell_type": "markdown",
   "id": "fa5f78d8-e484-4cd9-b3ff-365c8160c63c",
   "metadata": {
    "jp-MarkdownHeadingCollapsed": true
   },
   "source": [
    "# A Dataset\n",
    "## Default Model Evaluation"
   ]
  },
  {
   "cell_type": "code",
   "execution_count": 16,
   "id": "1d73cfb7-1a55-4287-be87-35e1792eeff7",
   "metadata": {
    "scrolled": true
   },
   "outputs": [
    {
     "name": "stdout",
     "output_type": "stream",
     "text": [
      "\n",
      "🚀 Running Logistic Regression with 5-fold CV...\n",
      "\n",
      "===== Fold 1 / 5 =====\n"
     ]
    },
    {
     "name": "stderr",
     "output_type": "stream",
     "text": [
      "/Library/Frameworks/Python.framework/Versions/3.12/lib/python3.12/site-packages/sklearn/linear_model/_logistic.py:465: ConvergenceWarning: lbfgs failed to converge (status=1):\n",
      "STOP: TOTAL NO. OF ITERATIONS REACHED LIMIT.\n",
      "\n",
      "Increase the number of iterations (max_iter) or scale the data as shown in:\n",
      "    https://scikit-learn.org/stable/modules/preprocessing.html\n",
      "Please also refer to the documentation for alternative solver options:\n",
      "    https://scikit-learn.org/stable/modules/linear_model.html#logistic-regression\n",
      "  n_iter_i = _check_optimize_result(\n"
     ]
    },
    {
     "name": "stdout",
     "output_type": "stream",
     "text": [
      "AUC: 0.6134\n",
      "\n",
      "===== Fold 2 / 5 =====\n"
     ]
    },
    {
     "name": "stderr",
     "output_type": "stream",
     "text": [
      "/Library/Frameworks/Python.framework/Versions/3.12/lib/python3.12/site-packages/sklearn/linear_model/_logistic.py:465: ConvergenceWarning: lbfgs failed to converge (status=1):\n",
      "STOP: TOTAL NO. OF ITERATIONS REACHED LIMIT.\n",
      "\n",
      "Increase the number of iterations (max_iter) or scale the data as shown in:\n",
      "    https://scikit-learn.org/stable/modules/preprocessing.html\n",
      "Please also refer to the documentation for alternative solver options:\n",
      "    https://scikit-learn.org/stable/modules/linear_model.html#logistic-regression\n",
      "  n_iter_i = _check_optimize_result(\n"
     ]
    },
    {
     "name": "stdout",
     "output_type": "stream",
     "text": [
      "AUC: 0.6142\n",
      "\n",
      "===== Fold 3 / 5 =====\n"
     ]
    },
    {
     "name": "stderr",
     "output_type": "stream",
     "text": [
      "/Library/Frameworks/Python.framework/Versions/3.12/lib/python3.12/site-packages/sklearn/linear_model/_logistic.py:465: ConvergenceWarning: lbfgs failed to converge (status=1):\n",
      "STOP: TOTAL NO. OF ITERATIONS REACHED LIMIT.\n",
      "\n",
      "Increase the number of iterations (max_iter) or scale the data as shown in:\n",
      "    https://scikit-learn.org/stable/modules/preprocessing.html\n",
      "Please also refer to the documentation for alternative solver options:\n",
      "    https://scikit-learn.org/stable/modules/linear_model.html#logistic-regression\n",
      "  n_iter_i = _check_optimize_result(\n"
     ]
    },
    {
     "name": "stdout",
     "output_type": "stream",
     "text": [
      "AUC: 0.6110\n",
      "\n",
      "===== Fold 4 / 5 =====\n"
     ]
    },
    {
     "name": "stderr",
     "output_type": "stream",
     "text": [
      "/Library/Frameworks/Python.framework/Versions/3.12/lib/python3.12/site-packages/sklearn/linear_model/_logistic.py:465: ConvergenceWarning: lbfgs failed to converge (status=1):\n",
      "STOP: TOTAL NO. OF ITERATIONS REACHED LIMIT.\n",
      "\n",
      "Increase the number of iterations (max_iter) or scale the data as shown in:\n",
      "    https://scikit-learn.org/stable/modules/preprocessing.html\n",
      "Please also refer to the documentation for alternative solver options:\n",
      "    https://scikit-learn.org/stable/modules/linear_model.html#logistic-regression\n",
      "  n_iter_i = _check_optimize_result(\n"
     ]
    },
    {
     "name": "stdout",
     "output_type": "stream",
     "text": [
      "AUC: 0.6220\n",
      "\n",
      "===== Fold 5 / 5 =====\n",
      "AUC: 0.6112\n",
      "\n",
      "📊 Logistic Regression CV AUCs: ['0.6134', '0.6142', '0.6110', '0.6220', '0.6112']\n",
      "Mean AUC: 0.6144 | Std: 0.0040\n"
     ]
    },
    {
     "name": "stderr",
     "output_type": "stream",
     "text": [
      "/Library/Frameworks/Python.framework/Versions/3.12/lib/python3.12/site-packages/sklearn/linear_model/_logistic.py:465: ConvergenceWarning: lbfgs failed to converge (status=1):\n",
      "STOP: TOTAL NO. OF ITERATIONS REACHED LIMIT.\n",
      "\n",
      "Increase the number of iterations (max_iter) or scale the data as shown in:\n",
      "    https://scikit-learn.org/stable/modules/preprocessing.html\n",
      "Please also refer to the documentation for alternative solver options:\n",
      "    https://scikit-learn.org/stable/modules/linear_model.html#logistic-regression\n",
      "  n_iter_i = _check_optimize_result(\n"
     ]
    },
    {
     "data": {
      "text/plain": [
       "[0.6133644634723319,\n",
       " 0.6142117565916846,\n",
       " 0.610984909524426,\n",
       " 0.6220437223388463,\n",
       " 0.6112408250298708]"
      ]
     },
     "execution_count": 16,
     "metadata": {},
     "output_type": "execute_result"
    }
   ],
   "source": [
    "run_logistic_regression_baseline(X_os, y_os)"
   ]
  },
  {
   "cell_type": "code",
   "execution_count": 17,
   "id": "c61b8c98-084f-4174-9c08-eea2d09b23a5",
   "metadata": {
    "scrolled": true
   },
   "outputs": [
    {
     "name": "stdout",
     "output_type": "stream",
     "text": [
      "\n",
      "🚀 Running Random Forest with 5-fold CV...\n",
      "\n",
      "===== Fold 1 / 5 =====\n",
      "AUC: 0.7078\n",
      "\n",
      "===== Fold 2 / 5 =====\n",
      "AUC: 0.7065\n",
      "\n",
      "===== Fold 3 / 5 =====\n",
      "AUC: 0.7059\n",
      "\n",
      "===== Fold 4 / 5 =====\n",
      "AUC: 0.7072\n",
      "\n",
      "===== Fold 5 / 5 =====\n",
      "AUC: 0.7075\n",
      "\n",
      "📊 Random Forest CV AUCs: ['0.7078', '0.7065', '0.7059', '0.7072', '0.7075']\n",
      "Mean AUC: 0.7070 | Std: 0.0007\n"
     ]
    },
    {
     "data": {
      "text/plain": [
       "[0.7078387585773347,\n",
       " 0.7064628186147397,\n",
       " 0.7058730025953706,\n",
       " 0.7072412612776956,\n",
       " 0.7075191034648022]"
      ]
     },
     "execution_count": 17,
     "metadata": {},
     "output_type": "execute_result"
    }
   ],
   "source": [
    "run_random_forest_baseline(X_os, y_os)"
   ]
  },
  {
   "cell_type": "code",
   "execution_count": 18,
   "id": "23847960-7d5b-4238-8c86-714b72c5abb0",
   "metadata": {
    "scrolled": true
   },
   "outputs": [
    {
     "name": "stdout",
     "output_type": "stream",
     "text": [
      "\n",
      "🚀 Running XGBoost with 5-fold CV...\n",
      "\n",
      "===== Fold 1 / 5 =====\n",
      "AUC: 0.7304\n",
      "\n",
      "===== Fold 2 / 5 =====\n",
      "AUC: 0.7241\n",
      "\n",
      "===== Fold 3 / 5 =====\n",
      "AUC: 0.7263\n",
      "\n",
      "===== Fold 4 / 5 =====\n",
      "AUC: 0.7284\n",
      "\n",
      "===== Fold 5 / 5 =====\n",
      "AUC: 0.7286\n",
      "\n",
      "📊 XGBoost CV AUCs: ['0.7304', '0.7241', '0.7263', '0.7284', '0.7286']\n",
      "Mean AUC: 0.7276 | Std: 0.0021\n"
     ]
    },
    {
     "data": {
      "text/plain": [
       "[0.7304103231692274,\n",
       " 0.7241461375325183,\n",
       " 0.7263273420101468,\n",
       " 0.7284310409191113,\n",
       " 0.7285646799617499]"
      ]
     },
     "execution_count": 18,
     "metadata": {},
     "output_type": "execute_result"
    }
   ],
   "source": [
    "run_xgboost_baseline(X_os, y_os)"
   ]
  },
  {
   "cell_type": "code",
   "execution_count": 19,
   "id": "5e270dba-a22f-431b-95a3-5b20d316fabc",
   "metadata": {
    "scrolled": true
   },
   "outputs": [
    {
     "name": "stdout",
     "output_type": "stream",
     "text": [
      "\n",
      "🚀 Running CatBoost with 5-fold CV...\n",
      "\n",
      "===== Fold 1 / 5 =====\n",
      "AUC: 0.7335\n",
      "\n",
      "===== Fold 2 / 5 =====\n",
      "AUC: 0.7291\n",
      "\n",
      "===== Fold 3 / 5 =====\n",
      "AUC: 0.7298\n",
      "\n",
      "===== Fold 4 / 5 =====\n",
      "AUC: 0.7317\n",
      "\n",
      "===== Fold 5 / 5 =====\n",
      "AUC: 0.7331\n",
      "\n",
      "📊 CatBoost CV AUCs: ['0.7335', '0.7291', '0.7298', '0.7317', '0.7331']\n",
      "Mean AUC: 0.7314 | Std: 0.0017\n"
     ]
    },
    {
     "data": {
      "text/plain": [
       "[0.7334663388738174,\n",
       " 0.7290843229920964,\n",
       " 0.7297858388502386,\n",
       " 0.7317182470835393,\n",
       " 0.7330911570489045]"
      ]
     },
     "execution_count": 19,
     "metadata": {},
     "output_type": "execute_result"
    }
   ],
   "source": [
    "run_catboost_baseline(X_os, y_os)"
   ]
  },
  {
   "cell_type": "code",
   "execution_count": 20,
   "id": "a5b090aa-3ff4-4d44-9317-e9d8ee571c81",
   "metadata": {
    "scrolled": true
   },
   "outputs": [
    {
     "name": "stdout",
     "output_type": "stream",
     "text": [
      "\n",
      "🚀 Running LightGBM with 5-fold CV...\n",
      "\n",
      "===== Fold 1 / 5 =====\n",
      "Training until validation scores don't improve for 200 rounds\n",
      "Did not meet early stopping. Best iteration is:\n",
      "[100]\tvalid_0's auc: 0.731003\n",
      "AUC: 0.7310\n",
      "\n",
      "===== Fold 2 / 5 =====\n",
      "Training until validation scores don't improve for 200 rounds\n",
      "Did not meet early stopping. Best iteration is:\n",
      "[100]\tvalid_0's auc: 0.725711\n",
      "AUC: 0.7257\n",
      "\n",
      "===== Fold 3 / 5 =====\n",
      "Training until validation scores don't improve for 200 rounds\n",
      "Did not meet early stopping. Best iteration is:\n",
      "[99]\tvalid_0's auc: 0.727443\n",
      "AUC: 0.7274\n",
      "\n",
      "===== Fold 4 / 5 =====\n",
      "Training until validation scores don't improve for 200 rounds\n",
      "Did not meet early stopping. Best iteration is:\n",
      "[100]\tvalid_0's auc: 0.728326\n",
      "AUC: 0.7283\n",
      "\n",
      "===== Fold 5 / 5 =====\n",
      "Training until validation scores don't improve for 200 rounds\n",
      "Did not meet early stopping. Best iteration is:\n",
      "[100]\tvalid_0's auc: 0.729857\n",
      "AUC: 0.7299\n",
      "\n",
      "📊 LightGBM CV AUCs: ['0.7310', '0.7257', '0.7274', '0.7283', '0.7299']\n",
      "Mean AUC: 0.7285 | Std: 0.0018\n"
     ]
    },
    {
     "data": {
      "text/plain": [
       "[0.7310032328623782,\n",
       " 0.7257109494342837,\n",
       " 0.7274425622080052,\n",
       " 0.7283256234570941,\n",
       " 0.72985677348525]"
      ]
     },
     "execution_count": 20,
     "metadata": {},
     "output_type": "execute_result"
    }
   ],
   "source": [
    "run_lightgbm_baseline(X_os, y_os)"
   ]
  },
  {
   "cell_type": "markdown",
   "id": "bbbc2278-47bb-44ef-8736-9a4ed67bc1f7",
   "metadata": {
    "jp-MarkdownHeadingCollapsed": true
   },
   "source": [
    "# B Dataset\n",
    "## Default Model Evaluation"
   ]
  },
  {
   "cell_type": "code",
   "execution_count": 21,
   "id": "d32e2ad0-0b25-47cc-be11-bb3fa0cfb4d8",
   "metadata": {
    "scrolled": true
   },
   "outputs": [
    {
     "name": "stdout",
     "output_type": "stream",
     "text": [
      "\n",
      "🚀 Running Logistic Regression with 5-fold CV...\n",
      "\n",
      "===== Fold 1 / 5 =====\n"
     ]
    },
    {
     "name": "stderr",
     "output_type": "stream",
     "text": [
      "/Library/Frameworks/Python.framework/Versions/3.12/lib/python3.12/site-packages/sklearn/linear_model/_logistic.py:465: ConvergenceWarning: lbfgs failed to converge (status=1):\n",
      "STOP: TOTAL NO. OF ITERATIONS REACHED LIMIT.\n",
      "\n",
      "Increase the number of iterations (max_iter) or scale the data as shown in:\n",
      "    https://scikit-learn.org/stable/modules/preprocessing.html\n",
      "Please also refer to the documentation for alternative solver options:\n",
      "    https://scikit-learn.org/stable/modules/linear_model.html#logistic-regression\n",
      "  n_iter_i = _check_optimize_result(\n"
     ]
    },
    {
     "name": "stdout",
     "output_type": "stream",
     "text": [
      "AUC: 0.6952\n",
      "\n",
      "===== Fold 2 / 5 =====\n"
     ]
    },
    {
     "name": "stderr",
     "output_type": "stream",
     "text": [
      "/Library/Frameworks/Python.framework/Versions/3.12/lib/python3.12/site-packages/sklearn/linear_model/_logistic.py:465: ConvergenceWarning: lbfgs failed to converge (status=1):\n",
      "STOP: TOTAL NO. OF ITERATIONS REACHED LIMIT.\n",
      "\n",
      "Increase the number of iterations (max_iter) or scale the data as shown in:\n",
      "    https://scikit-learn.org/stable/modules/preprocessing.html\n",
      "Please also refer to the documentation for alternative solver options:\n",
      "    https://scikit-learn.org/stable/modules/linear_model.html#logistic-regression\n",
      "  n_iter_i = _check_optimize_result(\n"
     ]
    },
    {
     "name": "stdout",
     "output_type": "stream",
     "text": [
      "AUC: 0.6885\n",
      "\n",
      "===== Fold 3 / 5 =====\n"
     ]
    },
    {
     "name": "stderr",
     "output_type": "stream",
     "text": [
      "/Library/Frameworks/Python.framework/Versions/3.12/lib/python3.12/site-packages/sklearn/linear_model/_logistic.py:465: ConvergenceWarning: lbfgs failed to converge (status=1):\n",
      "STOP: TOTAL NO. OF ITERATIONS REACHED LIMIT.\n",
      "\n",
      "Increase the number of iterations (max_iter) or scale the data as shown in:\n",
      "    https://scikit-learn.org/stable/modules/preprocessing.html\n",
      "Please also refer to the documentation for alternative solver options:\n",
      "    https://scikit-learn.org/stable/modules/linear_model.html#logistic-regression\n",
      "  n_iter_i = _check_optimize_result(\n"
     ]
    },
    {
     "name": "stdout",
     "output_type": "stream",
     "text": [
      "AUC: 0.6926\n",
      "\n",
      "===== Fold 4 / 5 =====\n"
     ]
    },
    {
     "name": "stderr",
     "output_type": "stream",
     "text": [
      "/Library/Frameworks/Python.framework/Versions/3.12/lib/python3.12/site-packages/sklearn/linear_model/_logistic.py:465: ConvergenceWarning: lbfgs failed to converge (status=1):\n",
      "STOP: TOTAL NO. OF ITERATIONS REACHED LIMIT.\n",
      "\n",
      "Increase the number of iterations (max_iter) or scale the data as shown in:\n",
      "    https://scikit-learn.org/stable/modules/preprocessing.html\n",
      "Please also refer to the documentation for alternative solver options:\n",
      "    https://scikit-learn.org/stable/modules/linear_model.html#logistic-regression\n",
      "  n_iter_i = _check_optimize_result(\n"
     ]
    },
    {
     "name": "stdout",
     "output_type": "stream",
     "text": [
      "AUC: 0.6909\n",
      "\n",
      "===== Fold 5 / 5 =====\n",
      "AUC: 0.6944\n",
      "\n",
      "📊 Logistic Regression CV AUCs: ['0.6952', '0.6885', '0.6926', '0.6909', '0.6944']\n",
      "Mean AUC: 0.6923 | Std: 0.0024\n"
     ]
    },
    {
     "name": "stderr",
     "output_type": "stream",
     "text": [
      "/Library/Frameworks/Python.framework/Versions/3.12/lib/python3.12/site-packages/sklearn/linear_model/_logistic.py:465: ConvergenceWarning: lbfgs failed to converge (status=1):\n",
      "STOP: TOTAL NO. OF ITERATIONS REACHED LIMIT.\n",
      "\n",
      "Increase the number of iterations (max_iter) or scale the data as shown in:\n",
      "    https://scikit-learn.org/stable/modules/preprocessing.html\n",
      "Please also refer to the documentation for alternative solver options:\n",
      "    https://scikit-learn.org/stable/modules/linear_model.html#logistic-regression\n",
      "  n_iter_i = _check_optimize_result(\n"
     ]
    },
    {
     "data": {
      "text/plain": [
       "[0.6951741852450302,\n",
       " 0.6885209885162038,\n",
       " 0.692645753549912,\n",
       " 0.6909111743405778,\n",
       " 0.6944318543916743]"
      ]
     },
     "execution_count": 21,
     "metadata": {},
     "output_type": "execute_result"
    }
   ],
   "source": [
    "run_logistic_regression_baseline(X_cs, y_cs)"
   ]
  },
  {
   "cell_type": "code",
   "execution_count": 22,
   "id": "d11aa8c2-de59-48ec-a0bd-f079ff8253cd",
   "metadata": {
    "scrolled": true
   },
   "outputs": [
    {
     "name": "stdout",
     "output_type": "stream",
     "text": [
      "\n",
      "🚀 Running Random Forest with 5-fold CV...\n",
      "\n",
      "===== Fold 1 / 5 =====\n",
      "AUC: 0.6807\n",
      "\n",
      "===== Fold 2 / 5 =====\n",
      "AUC: 0.6781\n",
      "\n",
      "===== Fold 3 / 5 =====\n",
      "AUC: 0.6788\n",
      "\n",
      "===== Fold 4 / 5 =====\n",
      "AUC: 0.6807\n",
      "\n",
      "===== Fold 5 / 5 =====\n",
      "AUC: 0.6825\n",
      "\n",
      "📊 Random Forest CV AUCs: ['0.6807', '0.6781', '0.6788', '0.6807', '0.6825']\n",
      "Mean AUC: 0.6802 | Std: 0.0016\n"
     ]
    },
    {
     "data": {
      "text/plain": [
       "[0.6807308810756547,\n",
       " 0.6781265670000058,\n",
       " 0.6788164635433793,\n",
       " 0.6807227193849144,\n",
       " 0.6825043171530892]"
      ]
     },
     "execution_count": 22,
     "metadata": {},
     "output_type": "execute_result"
    }
   ],
   "source": [
    "run_random_forest_baseline(X_cs, y_cs)"
   ]
  },
  {
   "cell_type": "code",
   "execution_count": 23,
   "id": "f1e35c0c-5517-4c47-8d20-898816b2f5de",
   "metadata": {
    "scrolled": true
   },
   "outputs": [
    {
     "name": "stdout",
     "output_type": "stream",
     "text": [
      "\n",
      "🚀 Running XGBoost with 5-fold CV...\n",
      "\n",
      "===== Fold 1 / 5 =====\n",
      "AUC: 0.7091\n",
      "\n",
      "===== Fold 2 / 5 =====\n",
      "AUC: 0.7041\n",
      "\n",
      "===== Fold 3 / 5 =====\n",
      "AUC: 0.7056\n",
      "\n",
      "===== Fold 4 / 5 =====\n",
      "AUC: 0.7060\n",
      "\n",
      "===== Fold 5 / 5 =====\n",
      "AUC: 0.7079\n",
      "\n",
      "📊 XGBoost CV AUCs: ['0.7091', '0.7041', '0.7056', '0.7060', '0.7079']\n",
      "Mean AUC: 0.7065 | Std: 0.0018\n"
     ]
    },
    {
     "data": {
      "text/plain": [
       "[0.7091295587486148,\n",
       " 0.7041035134770921,\n",
       " 0.7056270358634649,\n",
       " 0.7059712982204631,\n",
       " 0.7078607403165408]"
      ]
     },
     "execution_count": 23,
     "metadata": {},
     "output_type": "execute_result"
    }
   ],
   "source": [
    "run_xgboost_baseline(X_cs, y_cs)"
   ]
  },
  {
   "cell_type": "code",
   "execution_count": 24,
   "id": "ca40593c-e16c-4b39-9c10-7b3c88e916d9",
   "metadata": {
    "scrolled": true
   },
   "outputs": [
    {
     "name": "stdout",
     "output_type": "stream",
     "text": [
      "\n",
      "🚀 Running CatBoost with 5-fold CV...\n",
      "\n",
      "===== Fold 1 / 5 =====\n",
      "AUC: 0.7104\n",
      "\n",
      "===== Fold 2 / 5 =====\n",
      "AUC: 0.7049\n",
      "\n",
      "===== Fold 3 / 5 =====\n",
      "AUC: 0.7069\n",
      "\n",
      "===== Fold 4 / 5 =====\n",
      "AUC: 0.7080\n",
      "\n",
      "===== Fold 5 / 5 =====\n",
      "AUC: 0.7087\n",
      "\n",
      "📊 CatBoost CV AUCs: ['0.7104', '0.7049', '0.7069', '0.7080', '0.7087']\n",
      "Mean AUC: 0.7078 | Std: 0.0018\n"
     ]
    },
    {
     "data": {
      "text/plain": [
       "[0.71043860592748,\n",
       " 0.7049204891675123,\n",
       " 0.7069130249207655,\n",
       " 0.7079614832624366,\n",
       " 0.7086771290366961]"
      ]
     },
     "execution_count": 24,
     "metadata": {},
     "output_type": "execute_result"
    }
   ],
   "source": [
    "run_catboost_baseline(X_cs, y_cs)"
   ]
  },
  {
   "cell_type": "code",
   "execution_count": 25,
   "id": "07ad008d-b8b6-41c8-b2d9-eff72f0b1dd4",
   "metadata": {
    "scrolled": true
   },
   "outputs": [
    {
     "name": "stdout",
     "output_type": "stream",
     "text": [
      "\n",
      "🚀 Running LightGBM with 5-fold CV...\n",
      "\n",
      "===== Fold 1 / 5 =====\n",
      "Training until validation scores don't improve for 200 rounds\n",
      "Did not meet early stopping. Best iteration is:\n",
      "[99]\tvalid_0's auc: 0.709717\n",
      "AUC: 0.7097\n",
      "\n",
      "===== Fold 2 / 5 =====\n",
      "Training until validation scores don't improve for 200 rounds\n",
      "Did not meet early stopping. Best iteration is:\n",
      "[94]\tvalid_0's auc: 0.705009\n",
      "AUC: 0.7050\n",
      "\n",
      "===== Fold 3 / 5 =====\n",
      "Training until validation scores don't improve for 200 rounds\n",
      "Did not meet early stopping. Best iteration is:\n",
      "[95]\tvalid_0's auc: 0.707052\n",
      "AUC: 0.7071\n",
      "\n",
      "===== Fold 4 / 5 =====\n",
      "Training until validation scores don't improve for 200 rounds\n",
      "Did not meet early stopping. Best iteration is:\n",
      "[93]\tvalid_0's auc: 0.706782\n",
      "AUC: 0.7068\n",
      "\n",
      "===== Fold 5 / 5 =====\n",
      "Training until validation scores don't improve for 200 rounds\n",
      "Did not meet early stopping. Best iteration is:\n",
      "[99]\tvalid_0's auc: 0.708555\n",
      "AUC: 0.7086\n",
      "\n",
      "📊 LightGBM CV AUCs: ['0.7097', '0.7050', '0.7071', '0.7068', '0.7086']\n",
      "Mean AUC: 0.7074 | Std: 0.0016\n"
     ]
    },
    {
     "data": {
      "text/plain": [
       "[0.709717353186565,\n",
       " 0.7050094545961152,\n",
       " 0.70705216058774,\n",
       " 0.7067820875561882,\n",
       " 0.7085550295801484]"
      ]
     },
     "execution_count": 25,
     "metadata": {},
     "output_type": "execute_result"
    }
   ],
   "source": [
    "run_lightgbm_baseline(X_cs, y_cs)"
   ]
  },
  {
   "cell_type": "markdown",
   "id": "136abaa1-3804-4361-8f02-260300301446",
   "metadata": {},
   "source": [
    "# 调参"
   ]
  },
  {
   "cell_type": "code",
   "execution_count": 32,
   "id": "c0fbe509-0c5d-4ea2-bd24-fa91dbd22097",
   "metadata": {},
   "outputs": [],
   "source": [
    "from bayes_opt import BayesianOptimization\n",
    "import seaborn as sns\n",
    "from sklearn.model_selection import train_test_split\n",
    "\n",
    "\n",
    "def bayesian_lgb_optimizer(X, y, init_points=5, n_iter=15, test_size=0.2, random_state=42):\n",
    "    \"\"\"\n",
    "    LightGBM Bayesian optimization with ROC and feature importance visualization.\n",
    "\n",
    "    Parameters:\n",
    "    - X: pd.DataFrame, features\n",
    "    - y: pd.Series or np.array, target labels\n",
    "    - init_points: int, number of random explorations before optimization\n",
    "    - n_iter: int, number of iterations for optimization\n",
    "    - test_size: float, proportion of test split\n",
    "    - random_state: int, reproducibility\n",
    "\n",
    "    Returns:\n",
    "    - best_model: trained LightGBM model\n",
    "    - best_params: dict, optimal parameters\n",
    "    \"\"\"\n",
    "    \n",
    "    def lgb_cv(num_leaves, max_depth, bagging_fraction, feature_fraction,\n",
    "               bagging_freq, min_data_in_leaf, min_child_weight,\n",
    "               min_split_gain, reg_alpha, reg_lambda):\n",
    "\n",
    "        params = {\n",
    "            'boosting_type': 'gbdt',\n",
    "            'objective': 'binary',\n",
    "            'metric': 'auc',\n",
    "            'learning_rate': 0.05,\n",
    "            'verbose': -1,\n",
    "            'num_leaves': int(num_leaves),\n",
    "            'max_depth': int(max_depth),\n",
    "            'bagging_fraction': max(min(bagging_fraction, 1), 0),\n",
    "            'feature_fraction': max(min(feature_fraction, 1), 0),\n",
    "            'bagging_freq': int(bagging_freq),\n",
    "            'min_data_in_leaf': int(min_data_in_leaf),\n",
    "            'min_child_weight': min_child_weight,\n",
    "            'min_split_gain': min_split_gain,\n",
    "            'reg_alpha': reg_alpha,\n",
    "            'reg_lambda': reg_lambda,\n",
    "            'n_jobs': -1\n",
    "        }\n",
    "\n",
    "        model = lgb.LGBMClassifier(**params, n_estimators=300)\n",
    "        return cross_val_score(model, X, y, scoring='roc_auc', cv=5).mean()\n",
    "\n",
    "    # Parameter search space\n",
    "    pbounds = {\n",
    "        'num_leaves': (10, 150),\n",
    "        'max_depth': (3, 20),\n",
    "        'bagging_fraction': (0.6, 1.0),\n",
    "        'feature_fraction': (0.6, 1.0),\n",
    "        'bagging_freq': (1, 100),\n",
    "        'min_data_in_leaf': (10, 100),\n",
    "        'min_child_weight': (0.001, 10),\n",
    "        'min_split_gain': (0.0, 1.0),\n",
    "        'reg_alpha': (0.0, 10.0),\n",
    "        'reg_lambda': (0.0, 10.0),\n",
    "    }\n",
    "\n",
    "    optimizer = BayesianOptimization(\n",
    "        f=lgb_cv,\n",
    "        pbounds=pbounds,\n",
    "        verbose=2,\n",
    "        random_state=random_state\n",
    "    )\n",
    "\n",
    "    print(\"🔍 Starting Bayesian Optimization...\")\n",
    "    optimizer.maximize(init_points=init_points, n_iter=n_iter)\n",
    "\n",
    "    best_params = optimizer.max['params']\n",
    "    best_params = {\n",
    "        'boosting_type': 'gbdt',\n",
    "        'objective': 'binary',\n",
    "        'metric': 'auc',\n",
    "        'learning_rate': 0.05,\n",
    "        'n_estimators': 300,\n",
    "        'num_leaves': int(best_params['num_leaves']),\n",
    "        'max_depth': int(best_params['max_depth']),\n",
    "        'bagging_fraction': best_params['bagging_fraction'],\n",
    "        'feature_fraction': best_params['feature_fraction'],\n",
    "        'bagging_freq': int(best_params['bagging_freq']),\n",
    "        'min_data_in_leaf': int(best_params['min_data_in_leaf']),\n",
    "        'min_child_weight': best_params['min_child_weight'],\n",
    "        'min_split_gain': best_params['min_split_gain'],\n",
    "        'reg_alpha': best_params['reg_alpha'],\n",
    "        'reg_lambda': best_params['reg_lambda'],\n",
    "        'n_jobs': -1\n",
    "    }\n",
    "\n",
    "    print(\"✅ Best AUC score: {:.5f}\".format(optimizer.max['target']))\n",
    "    print(\"✅ Best Parameters:\", best_params)\n",
    "\n",
    "    # Train final model\n",
    "    X_train_split, X_val, y_train_split, y_val = train_test_split(X, y, test_size=test_size, random_state=random_state)\n",
    "    model = lgb.LGBMClassifier(**best_params)\n",
    "    model.fit(X_train_split, y_train_split)\n",
    "\n",
    "    # ROC Curve\n",
    "    val_pred = model.predict_proba(X_val)[:, 1]\n",
    "    fpr, tpr, _ = roc_curve(y_val, val_pred)\n",
    "    auc_score = roc_auc_score(y_val, val_pred)\n",
    "\n",
    "    plt.figure(figsize=(6, 5))\n",
    "    plt.plot(fpr, tpr, label=f'AUC = {auc_score:.4f}')\n",
    "    plt.plot([0, 1], [0, 1], 'r--')\n",
    "    plt.xlabel('False Positive Rate')\n",
    "    plt.ylabel('True Positive Rate')\n",
    "    plt.title('ROC Curve')\n",
    "    plt.legend()\n",
    "    plt.grid()\n",
    "    plt.show()\n",
    "\n",
    "    # Feature Importance\n",
    "    lgb.plot_importance(model, max_num_features=20, importance_type='gain', figsize=(8, 6))\n",
    "    plt.title(\"Top 20 Feature Importances\")\n",
    "    plt.tight_layout()\n",
    "    plt.show()\n",
    "\n",
    "    return model, best_params"
   ]
  },
  {
   "cell_type": "code",
   "execution_count": 33,
   "id": "7af5ed7b-81dc-483a-92f1-5da0f8c8cb46",
   "metadata": {},
   "outputs": [
    {
     "name": "stdout",
     "output_type": "stream",
     "text": [
      "🔍 Starting Bayesian Optimization...\n",
      "|   iter    |  target   | baggin... | baggin... | featur... | max_depth | min_ch... | min_da... | min_sp... | num_le... | reg_alpha | reg_la... |\n",
      "-------------------------------------------------------------------------------------------------------------------------------------------------\n",
      "| \u001b[39m1        \u001b[39m | \u001b[39m0.7315   \u001b[39m | \u001b[39m0.7498   \u001b[39m | \u001b[39m95.12    \u001b[39m | \u001b[39m0.8928   \u001b[39m | \u001b[39m13.18    \u001b[39m | \u001b[39m1.561    \u001b[39m | \u001b[39m24.04    \u001b[39m | \u001b[39m0.05808  \u001b[39m | \u001b[39m131.3    \u001b[39m | \u001b[39m6.011    \u001b[39m | \u001b[39m7.081    \u001b[39m |\n",
      "| \u001b[39m2        \u001b[39m | \u001b[39m0.7292   \u001b[39m | \u001b[39m0.6082   \u001b[39m | \u001b[39m97.02    \u001b[39m | \u001b[39m0.933    \u001b[39m | \u001b[39m6.61     \u001b[39m | \u001b[39m1.819    \u001b[39m | \u001b[39m26.51    \u001b[39m | \u001b[39m0.3042   \u001b[39m | \u001b[39m83.47    \u001b[39m | \u001b[39m4.319    \u001b[39m | \u001b[39m2.912    \u001b[39m |\n",
      "| \u001b[35m3        \u001b[39m | \u001b[35m0.732    \u001b[39m | \u001b[35m0.8447   \u001b[39m | \u001b[35m14.81    \u001b[39m | \u001b[35m0.7169   \u001b[39m | \u001b[35m9.228    \u001b[39m | \u001b[35m4.561    \u001b[39m | \u001b[35m80.67    \u001b[39m | \u001b[35m0.1997   \u001b[39m | \u001b[35m81.99    \u001b[39m | \u001b[35m5.924    \u001b[39m | \u001b[35m0.4645   \u001b[39m |\n",
      "| \u001b[39m4        \u001b[39m | \u001b[39m0.7298   \u001b[39m | \u001b[39m0.843    \u001b[39m | \u001b[39m17.88    \u001b[39m | \u001b[39m0.626    \u001b[39m | \u001b[39m19.13    \u001b[39m | \u001b[39m9.656    \u001b[39m | \u001b[39m82.76    \u001b[39m | \u001b[39m0.3046   \u001b[39m | \u001b[39m23.67    \u001b[39m | \u001b[39m6.842    \u001b[39m | \u001b[39m4.402    \u001b[39m |\n",
      "| \u001b[39m5        \u001b[39m | \u001b[39m0.7314   \u001b[39m | \u001b[39m0.6488   \u001b[39m | \u001b[39m50.02    \u001b[39m | \u001b[39m0.6138   \u001b[39m | \u001b[39m18.46    \u001b[39m | \u001b[39m2.589    \u001b[39m | \u001b[39m69.63    \u001b[39m | \u001b[39m0.3117   \u001b[39m | \u001b[39m82.81    \u001b[39m | \u001b[39m5.467    \u001b[39m | \u001b[39m1.849    \u001b[39m |\n",
      "| \u001b[39m6        \u001b[39m | \u001b[39m0.7316   \u001b[39m | \u001b[39m0.8949   \u001b[39m | \u001b[39m29.1     \u001b[39m | \u001b[39m0.8712   \u001b[39m | \u001b[39m16.45    \u001b[39m | \u001b[39m5.694    \u001b[39m | \u001b[39m80.74    \u001b[39m | \u001b[39m0.935    \u001b[39m | \u001b[39m87.06    \u001b[39m | \u001b[39m1.524    \u001b[39m | \u001b[39m7.096    \u001b[39m |\n",
      "| \u001b[39m7        \u001b[39m | \u001b[39m0.7308   \u001b[39m | \u001b[39m0.7104   \u001b[39m | \u001b[39m15.82    \u001b[39m | \u001b[39m0.903    \u001b[39m | \u001b[39m7.612    \u001b[39m | \u001b[39m5.892    \u001b[39m | \u001b[39m80.12    \u001b[39m | \u001b[39m0.1206   \u001b[39m | \u001b[39m84.2     \u001b[39m | \u001b[39m7.646    \u001b[39m | \u001b[39m1.481    \u001b[39m |\n",
      "| \u001b[39m8        \u001b[39m | \u001b[39m0.7316   \u001b[39m | \u001b[39m0.9599   \u001b[39m | \u001b[39m21.91    \u001b[39m | \u001b[39m0.896    \u001b[39m | \u001b[39m16.0     \u001b[39m | \u001b[39m3.835    \u001b[39m | \u001b[39m68.45    \u001b[39m | \u001b[39m0.121    \u001b[39m | \u001b[39m64.09    \u001b[39m | \u001b[39m3.655    \u001b[39m | \u001b[39m5.539    \u001b[39m |\n",
      "| \u001b[39m9        \u001b[39m | \u001b[39m0.7284   \u001b[39m | \u001b[39m0.7791   \u001b[39m | \u001b[39m82.65    \u001b[39m | \u001b[39m0.9211   \u001b[39m | \u001b[39m5.881    \u001b[39m | \u001b[39m0.3524   \u001b[39m | \u001b[39m43.95    \u001b[39m | \u001b[39m0.3445   \u001b[39m | \u001b[39m46.61    \u001b[39m | \u001b[39m8.2      \u001b[39m | \u001b[39m9.794    \u001b[39m |\n",
      "| \u001b[39m10       \u001b[39m | \u001b[39m0.7313   \u001b[39m | \u001b[39m0.6852   \u001b[39m | \u001b[39m14.24    \u001b[39m | \u001b[39m0.9105   \u001b[39m | \u001b[39m9.506    \u001b[39m | \u001b[39m4.116    \u001b[39m | \u001b[39m84.16    \u001b[39m | \u001b[39m0.6869   \u001b[39m | \u001b[39m80.69    \u001b[39m | \u001b[39m5.633    \u001b[39m | \u001b[39m1.213    \u001b[39m |\n",
      "| \u001b[39m11       \u001b[39m | \u001b[39m0.7314   \u001b[39m | \u001b[39m0.7789   \u001b[39m | \u001b[39m16.15    \u001b[39m | \u001b[39m0.9511   \u001b[39m | \u001b[39m8.446    \u001b[39m | \u001b[39m4.98     \u001b[39m | \u001b[39m73.12    \u001b[39m | \u001b[39m0.7313   \u001b[39m | \u001b[39m79.85    \u001b[39m | \u001b[39m4.625    \u001b[39m | \u001b[39m1.394    \u001b[39m |\n",
      "| \u001b[39m12       \u001b[39m | \u001b[39m0.7313   \u001b[39m | \u001b[39m0.6382   \u001b[39m | \u001b[39m18.46    \u001b[39m | \u001b[39m0.9836   \u001b[39m | \u001b[39m13.64    \u001b[39m | \u001b[39m1.082    \u001b[39m | \u001b[39m77.73    \u001b[39m | \u001b[39m0.9599   \u001b[39m | \u001b[39m77.77    \u001b[39m | \u001b[39m7.306    \u001b[39m | \u001b[39m0.7127   \u001b[39m |\n",
      "| \u001b[35m13       \u001b[39m | \u001b[35m0.732    \u001b[39m | \u001b[35m0.9596   \u001b[39m | \u001b[35m11.23    \u001b[39m | \u001b[35m0.7409   \u001b[39m | \u001b[35m16.28    \u001b[39m | \u001b[35m1.63     \u001b[39m | \u001b[35m78.19    \u001b[39m | \u001b[35m0.633    \u001b[39m | \u001b[35m80.19    \u001b[39m | \u001b[35m5.639    \u001b[39m | \u001b[35m1.799    \u001b[39m |\n",
      "| \u001b[39m14       \u001b[39m | \u001b[39m0.7317   \u001b[39m | \u001b[39m0.6893   \u001b[39m | \u001b[39m12.72    \u001b[39m | \u001b[39m0.6944   \u001b[39m | \u001b[39m15.8     \u001b[39m | \u001b[39m2.608    \u001b[39m | \u001b[39m76.16    \u001b[39m | \u001b[39m0.883    \u001b[39m | \u001b[39m88.85    \u001b[39m | \u001b[39m2.485    \u001b[39m | \u001b[39m1.649    \u001b[39m |\n",
      "| \u001b[39m15       \u001b[39m | \u001b[39m0.7317   \u001b[39m | \u001b[39m0.9586   \u001b[39m | \u001b[39m18.09    \u001b[39m | \u001b[39m0.9536   \u001b[39m | \u001b[39m15.87    \u001b[39m | \u001b[39m9.266    \u001b[39m | \u001b[39m80.28    \u001b[39m | \u001b[39m0.626    \u001b[39m | \u001b[39m81.76    \u001b[39m | \u001b[39m3.166    \u001b[39m | \u001b[39m2.784    \u001b[39m |\n",
      "| \u001b[39m16       \u001b[39m | \u001b[39m0.7315   \u001b[39m | \u001b[39m0.9394   \u001b[39m | \u001b[39m5.73     \u001b[39m | \u001b[39m0.7345   \u001b[39m | \u001b[39m11.91    \u001b[39m | \u001b[39m5.836    \u001b[39m | \u001b[39m77.37    \u001b[39m | \u001b[39m0.9021   \u001b[39m | \u001b[39m81.37    \u001b[39m | \u001b[39m1.15     \u001b[39m | \u001b[39m5.702    \u001b[39m |\n",
      "| \u001b[39m17       \u001b[39m | \u001b[39m0.7319   \u001b[39m | \u001b[39m0.8255   \u001b[39m | \u001b[39m13.97    \u001b[39m | \u001b[39m0.6639   \u001b[39m | \u001b[39m19.27    \u001b[39m | \u001b[39m3.269    \u001b[39m | \u001b[39m69.38    \u001b[39m | \u001b[39m0.005746 \u001b[39m | \u001b[39m78.37    \u001b[39m | \u001b[39m0.4601   \u001b[39m | \u001b[39m5.938    \u001b[39m |\n",
      "| \u001b[39m18       \u001b[39m | \u001b[39m0.7274   \u001b[39m | \u001b[39m0.6129   \u001b[39m | \u001b[39m65.66    \u001b[39m | \u001b[39m0.9441   \u001b[39m | \u001b[39m6.116    \u001b[39m | \u001b[39m1.116    \u001b[39m | \u001b[39m43.57    \u001b[39m | \u001b[39m0.06851  \u001b[39m | \u001b[39m13.87    \u001b[39m | \u001b[39m3.492    \u001b[39m | \u001b[39m2.026    \u001b[39m |\n",
      "| \u001b[39m19       \u001b[39m | \u001b[39m0.7317   \u001b[39m | \u001b[39m0.9137   \u001b[39m | \u001b[39m11.5     \u001b[39m | \u001b[39m0.9565   \u001b[39m | \u001b[39m16.32    \u001b[39m | \u001b[39m9.39     \u001b[39m | \u001b[39m74.99    \u001b[39m | \u001b[39m0.0688   \u001b[39m | \u001b[39m69.71    \u001b[39m | \u001b[39m2.562    \u001b[39m | \u001b[39m0.002525 \u001b[39m |\n",
      "| \u001b[35m20       \u001b[39m | \u001b[35m0.7321   \u001b[39m | \u001b[35m0.8429   \u001b[39m | \u001b[35m3.483    \u001b[39m | \u001b[35m0.6164   \u001b[39m | \u001b[35m19.9     \u001b[39m | \u001b[35m2.19     \u001b[39m | \u001b[35m59.35    \u001b[39m | \u001b[35m0.183    \u001b[39m | \u001b[35m68.27    \u001b[39m | \u001b[35m2.427    \u001b[39m | \u001b[35m3.693    \u001b[39m |\n",
      "=================================================================================================================================================\n",
      "✅ Best AUC score: 0.73208\n",
      "✅ Best Parameters: {'boosting_type': 'gbdt', 'objective': 'binary', 'metric': 'auc', 'learning_rate': 0.05, 'n_estimators': 300, 'num_leaves': 68, 'max_depth': 19, 'bagging_fraction': 0.8428616483927308, 'feature_fraction': 0.6163960254314259, 'bagging_freq': 3, 'min_data_in_leaf': 59, 'min_child_weight': 2.1903162198355046, 'min_split_gain': 0.18297058644809272, 'reg_alpha': 2.4268705686544765, 'reg_lambda': 3.6930899919134075, 'n_jobs': -1}\n"
     ]
    },
    {
     "data": {
      "image/png": "[encoded data removed]",
      "text/plain": [
       "<Figure size 600x500 with 1 Axes>"
      ]
     },
     "metadata": {},
     "output_type": "display_data"
    },
    {
     "data": {
      "image/png": "[encoded data removed]",
      "text/plain": [
       "<Figure size 800x600 with 1 Axes>"
      ]
     },
     "metadata": {},
     "output_type": "display_data"
    }
   ],
   "source": [
    "model, best_params = bayesian_lgb_optimizer(X_os, y_os)"
   ]
  },
  {
   "cell_type": "code",
   "execution_count": 34,
   "id": "003b796b-a34e-4ae4-ae06-582401073c28",
   "metadata": {},
   "outputs": [
    {
     "name": "stdout",
     "output_type": "stream",
     "text": [
      "🔍 Starting Bayesian Optimization...\n",
      "|   iter    |  target   | baggin... | baggin... | featur... | max_depth | min_ch... | min_da... | min_sp... | num_le... | reg_alpha | reg_la... |\n",
      "-------------------------------------------------------------------------------------------------------------------------------------------------\n",
      "| \u001b[39m1        \u001b[39m | \u001b[39m0.7079   \u001b[39m | \u001b[39m0.7498   \u001b[39m | \u001b[39m95.12    \u001b[39m | \u001b[39m0.8928   \u001b[39m | \u001b[39m13.18    \u001b[39m | \u001b[39m1.561    \u001b[39m | \u001b[39m24.04    \u001b[39m | \u001b[39m0.05808  \u001b[39m | \u001b[39m131.3    \u001b[39m | \u001b[39m6.011    \u001b[39m | \u001b[39m7.081    \u001b[39m |\n",
      "| \u001b[39m2        \u001b[39m | \u001b[39m0.7079   \u001b[39m | \u001b[39m0.6082   \u001b[39m | \u001b[39m97.02    \u001b[39m | \u001b[39m0.933    \u001b[39m | \u001b[39m6.61     \u001b[39m | \u001b[39m1.819    \u001b[39m | \u001b[39m26.51    \u001b[39m | \u001b[39m0.3042   \u001b[39m | \u001b[39m83.47    \u001b[39m | \u001b[39m4.319    \u001b[39m | \u001b[39m2.912    \u001b[39m |\n",
      "| \u001b[35m3        \u001b[39m | \u001b[35m0.709    \u001b[39m | \u001b[35m0.8447   \u001b[39m | \u001b[35m14.81    \u001b[39m | \u001b[35m0.7169   \u001b[39m | \u001b[35m9.228    \u001b[39m | \u001b[35m4.561    \u001b[39m | \u001b[35m80.67    \u001b[39m | \u001b[35m0.1997   \u001b[39m | \u001b[35m81.99    \u001b[39m | \u001b[35m5.924    \u001b[39m | \u001b[35m0.4645   \u001b[39m |\n",
      "| \u001b[39m4        \u001b[39m | \u001b[39m0.7086   \u001b[39m | \u001b[39m0.843    \u001b[39m | \u001b[39m17.88    \u001b[39m | \u001b[39m0.626    \u001b[39m | \u001b[39m19.13    \u001b[39m | \u001b[39m9.656    \u001b[39m | \u001b[39m82.76    \u001b[39m | \u001b[39m0.3046   \u001b[39m | \u001b[39m23.67    \u001b[39m | \u001b[39m6.842    \u001b[39m | \u001b[39m4.402    \u001b[39m |\n",
      "| \u001b[39m5        \u001b[39m | \u001b[39m0.7086   \u001b[39m | \u001b[39m0.6488   \u001b[39m | \u001b[39m50.02    \u001b[39m | \u001b[39m0.6138   \u001b[39m | \u001b[39m18.46    \u001b[39m | \u001b[39m2.589    \u001b[39m | \u001b[39m69.63    \u001b[39m | \u001b[39m0.3117   \u001b[39m | \u001b[39m82.81    \u001b[39m | \u001b[39m5.467    \u001b[39m | \u001b[39m1.849    \u001b[39m |\n",
      "| \u001b[35m6        \u001b[39m | \u001b[35m0.7093   \u001b[39m | \u001b[35m0.9533   \u001b[39m | \u001b[35m1.514    \u001b[39m | \u001b[35m0.7023   \u001b[39m | \u001b[35m9.914    \u001b[39m | \u001b[35m6.723    \u001b[39m | \u001b[35m99.74    \u001b[39m | \u001b[35m0.3708   \u001b[39m | \u001b[35m142.8    \u001b[39m | \u001b[35m3.668    \u001b[39m | \u001b[35m6.955    \u001b[39m |\n",
      "| \u001b[39m7        \u001b[39m | \u001b[39m0.7092   \u001b[39m | \u001b[39m0.8886   \u001b[39m | \u001b[39m1.043    \u001b[39m | \u001b[39m0.7507   \u001b[39m | \u001b[39m8.568    \u001b[39m | \u001b[39m4.953    \u001b[39m | \u001b[39m98.43    \u001b[39m | \u001b[39m0.7494   \u001b[39m | \u001b[39m144.1    \u001b[39m | \u001b[39m2.313    \u001b[39m | \u001b[39m6.873    \u001b[39m |\n",
      "| \u001b[39m8        \u001b[39m | \u001b[39m0.7079   \u001b[39m | \u001b[39m0.6673   \u001b[39m | \u001b[39m26.41    \u001b[39m | \u001b[39m0.8079   \u001b[39m | \u001b[39m18.78    \u001b[39m | \u001b[39m8.392    \u001b[39m | \u001b[39m99.58    \u001b[39m | \u001b[39m0.1535   \u001b[39m | \u001b[39m119.1    \u001b[39m | \u001b[39m4.624    \u001b[39m | \u001b[39m8.395    \u001b[39m |\n",
      "| \u001b[39m9        \u001b[39m | \u001b[39m0.7089   \u001b[39m | \u001b[39m0.7773   \u001b[39m | \u001b[39m4.339    \u001b[39m | \u001b[39m0.6703   \u001b[39m | \u001b[39m15.93    \u001b[39m | \u001b[39m7.827    \u001b[39m | \u001b[39m89.84    \u001b[39m | \u001b[39m0.4223   \u001b[39m | \u001b[39m138.2    \u001b[39m | \u001b[39m8.51     \u001b[39m | \u001b[39m0.4563   \u001b[39m |\n",
      "| \u001b[39m10       \u001b[39m | \u001b[39m0.7093   \u001b[39m | \u001b[39m0.6987   \u001b[39m | \u001b[39m3.151    \u001b[39m | \u001b[39m0.7474   \u001b[39m | \u001b[39m10.6     \u001b[39m | \u001b[39m1.082    \u001b[39m | \u001b[39m71.42    \u001b[39m | \u001b[39m0.8455   \u001b[39m | \u001b[39m64.13    \u001b[39m | \u001b[39m5.81     \u001b[39m | \u001b[39m1.418    \u001b[39m |\n",
      "| \u001b[39m11       \u001b[39m | \u001b[39m0.7086   \u001b[39m | \u001b[39m0.6579   \u001b[39m | \u001b[39m7.902    \u001b[39m | \u001b[39m0.9231   \u001b[39m | \u001b[39m12.58    \u001b[39m | \u001b[39m7.626    \u001b[39m | \u001b[39m53.35    \u001b[39m | \u001b[39m0.1706   \u001b[39m | \u001b[39m73.71    \u001b[39m | \u001b[39m4.445    \u001b[39m | \u001b[39m7.446    \u001b[39m |\n",
      "| \u001b[39m12       \u001b[39m | \u001b[39m0.7069   \u001b[39m | \u001b[39m0.984    \u001b[39m | \u001b[39m7.1      \u001b[39m | \u001b[39m0.9929   \u001b[39m | \u001b[39m3.524    \u001b[39m | \u001b[39m3.1      \u001b[39m | \u001b[39m87.2     \u001b[39m | \u001b[39m0.4236   \u001b[39m | \u001b[39m60.57    \u001b[39m | \u001b[39m6.589    \u001b[39m | \u001b[39m6.389    \u001b[39m |\n",
      "| \u001b[39m13       \u001b[39m | \u001b[39m0.7079   \u001b[39m | \u001b[39m0.733    \u001b[39m | \u001b[39m5.579    \u001b[39m | \u001b[39m0.8702   \u001b[39m | \u001b[39m17.35    \u001b[39m | \u001b[39m8.498    \u001b[39m | \u001b[39m98.14    \u001b[39m | \u001b[39m0.1393   \u001b[39m | \u001b[39m144.6    \u001b[39m | \u001b[39m0.9315   \u001b[39m | \u001b[39m8.731    \u001b[39m |\n",
      "| \u001b[39m14       \u001b[39m | \u001b[39m0.7083   \u001b[39m | \u001b[39m0.971    \u001b[39m | \u001b[39m4.786    \u001b[39m | \u001b[39m0.9331   \u001b[39m | \u001b[39m9.009    \u001b[39m | \u001b[39m7.317    \u001b[39m | \u001b[39m97.57    \u001b[39m | \u001b[39m0.9972   \u001b[39m | \u001b[39m144.1    \u001b[39m | \u001b[39m6.832    \u001b[39m | \u001b[39m1.49     \u001b[39m |\n",
      "| \u001b[39m15       \u001b[39m | \u001b[39m0.708    \u001b[39m | \u001b[39m0.7058   \u001b[39m | \u001b[39m2.64     \u001b[39m | \u001b[39m0.9869   \u001b[39m | \u001b[39m10.38    \u001b[39m | \u001b[39m2.935    \u001b[39m | \u001b[39m97.37    \u001b[39m | \u001b[39m0.1636   \u001b[39m | \u001b[39m143.9    \u001b[39m | \u001b[39m6.658    \u001b[39m | \u001b[39m9.099    \u001b[39m |\n",
      "| \u001b[39m16       \u001b[39m | \u001b[39m0.7083   \u001b[39m | \u001b[39m0.7298   \u001b[39m | \u001b[39m2.375    \u001b[39m | \u001b[39m0.7474   \u001b[39m | \u001b[39m10.87    \u001b[39m | \u001b[39m2.574    \u001b[39m | \u001b[39m98.63    \u001b[39m | \u001b[39m0.2495   \u001b[39m | \u001b[39m144.8    \u001b[39m | \u001b[39m1.378    \u001b[39m | \u001b[39m3.174    \u001b[39m |\n",
      "| \u001b[39m17       \u001b[39m | \u001b[39m0.7087   \u001b[39m | \u001b[39m0.6704   \u001b[39m | \u001b[39m12.31    \u001b[39m | \u001b[39m0.7437   \u001b[39m | \u001b[39m7.794    \u001b[39m | \u001b[39m3.22     \u001b[39m | \u001b[39m78.76    \u001b[39m | \u001b[39m0.2019   \u001b[39m | \u001b[39m77.19    \u001b[39m | \u001b[39m4.873    \u001b[39m | \u001b[39m3.992    \u001b[39m |\n",
      "| \u001b[39m18       \u001b[39m | \u001b[39m0.709    \u001b[39m | \u001b[39m0.6487   \u001b[39m | \u001b[39m2.483    \u001b[39m | \u001b[39m0.717    \u001b[39m | \u001b[39m10.79    \u001b[39m | \u001b[39m1.744    \u001b[39m | \u001b[39m76.13    \u001b[39m | \u001b[39m0.04532  \u001b[39m | \u001b[39m64.79    \u001b[39m | \u001b[39m8.512    \u001b[39m | \u001b[39m2.729    \u001b[39m |\n",
      "| \u001b[39m19       \u001b[39m | \u001b[39m0.7093   \u001b[39m | \u001b[39m0.7284   \u001b[39m | \u001b[39m5.201    \u001b[39m | \u001b[39m0.7903   \u001b[39m | \u001b[39m10.85    \u001b[39m | \u001b[39m0.7955   \u001b[39m | \u001b[39m71.31    \u001b[39m | \u001b[39m0.9649   \u001b[39m | \u001b[39m64.27    \u001b[39m | \u001b[39m8.127    \u001b[39m | \u001b[39m7.088    \u001b[39m |\n",
      "| \u001b[39m20       \u001b[39m | \u001b[39m0.7091   \u001b[39m | \u001b[39m0.7415   \u001b[39m | \u001b[39m3.436    \u001b[39m | \u001b[39m0.8781   \u001b[39m | \u001b[39m11.07    \u001b[39m | \u001b[39m1.548    \u001b[39m | \u001b[39m70.22    \u001b[39m | \u001b[39m0.6536   \u001b[39m | \u001b[39m68.98    \u001b[39m | \u001b[39m9.94     \u001b[39m | \u001b[39m0.3721   \u001b[39m |\n",
      "=================================================================================================================================================\n",
      "✅ Best AUC score: 0.70931\n",
      "✅ Best Parameters: {'boosting_type': 'gbdt', 'objective': 'binary', 'metric': 'auc', 'learning_rate': 0.05, 'n_estimators': 300, 'num_leaves': 142, 'max_depth': 9, 'bagging_fraction': 0.9532639911739557, 'feature_fraction': 0.7022988193639714, 'bagging_freq': 1, 'min_data_in_leaf': 99, 'min_child_weight': 6.722924928150193, 'min_split_gain': 0.37081839490267576, 'reg_alpha': 3.6677428215822583, 'reg_lambda': 6.95529256684021, 'n_jobs': -1}\n"
     ]
    },
    {
     "data": {
      "image/png": "[encoded data removed]",
      "text/plain": [
       "<Figure size 600x500 with 1 Axes>"
      ]
     },
     "metadata": {},
     "output_type": "display_data"
    },
    {
     "data": {
      "image/png": "[encoded data removed]",
      "text/plain": [
       "<Figure size 800x600 with 1 Axes>"
      ]
     },
     "metadata": {},
     "output_type": "display_data"
    }
   ],
   "source": [
    "model, best_params = bayesian_lgb_optimizer(X_cs, y_cs)"
   ]
  },
  {
   "cell_type": "code",
   "execution_count": null,
   "id": "00151c34-05ff-43b6-801d-f4dc1707c05b",
   "metadata": {},
   "outputs": [],
   "source": []
  },
  {
   "cell_type": "code",
   "execution_count": null,
   "id": "a129f59c-8ca5-454f-bc6d-d1cacda1b36f",
   "metadata": {},
   "outputs": [],
   "source": []
  },
  {
   "cell_type": "code",
   "execution_count": null,
   "id": "ecfc714f-1ba1-4ce2-b22e-e5d15b186c4c",
   "metadata": {},
   "outputs": [],
   "source": []
  },
  {
   "cell_type": "code",
   "execution_count": null,
   "id": "0478360e-91d3-4f23-adf1-be1cdac0c397",
   "metadata": {},
   "outputs": [],
   "source": []
  },
  {
   "cell_type": "code",
   "execution_count": null,
   "id": "f8ef26cf-750f-4838-a95a-5fc49b7ae47e",
   "metadata": {},
   "outputs": [],
   "source": []
  },
  {
   "cell_type": "code",
   "execution_count": 44,
   "id": "1046a956-b32a-44f7-8a89-6aca385793fa",
   "metadata": {
    "scrolled": true
   },
   "outputs": [
    {
     "name": "stderr",
     "output_type": "stream",
     "text": [
      "[I 2025-05-14 20:31:34,883] A new study created in memory with name: no-name-9bb7a109-833f-48bf-b175-4664b9b627cb\n",
      "[I 2025-05-14 20:35:20,835] Trial 0 finished with value: 0.7316773940673763 and parameters: {'depth': 10, 'l2_leaf_reg': 9.331059161410876, 'min_data_in_leaf': 28, 'learning_rate': 0.042677570326182794, 'iterations': 2827, 'subsample': 0.6544748441281788, 'rsm': 0.517472109247225}. Best is trial 0 with value: 0.7316773940673763.\n",
      "[I 2025-05-14 20:39:36,904] Trial 1 finished with value: 0.7303993048336676 and parameters: {'depth': 9, 'l2_leaf_reg': 2.9120822961265405, 'min_data_in_leaf': 71, 'learning_rate': 0.01472117409769442, 'iterations': 1371, 'subsample': 0.855744112348463, 'rsm': 0.6463736865364773}. Best is trial 0 with value: 0.7316773940673763.\n",
      "[I 2025-05-14 20:43:11,903] Trial 2 finished with value: 0.7326064196036878 and parameters: {'depth': 7, 'l2_leaf_reg': 7.899728205872676, 'min_data_in_leaf': 20, 'learning_rate': 0.03452795023762319, 'iterations': 1686, 'subsample': 0.6541591440843566, 'rsm': 0.7477814420772164}. Best is trial 2 with value: 0.7326064196036878.\n",
      "[I 2025-05-14 20:45:56,050] Trial 3 finished with value: 0.7244389161665837 and parameters: {'depth': 3, 'l2_leaf_reg': 2.96008126691982, 'min_data_in_leaf': 49, 'learning_rate': 0.011714531661519565, 'iterations': 2086, 'subsample': 0.7752225591975206, 'rsm': 0.571732644956173}. Best is trial 2 with value: 0.7326064196036878.\n",
      "[I 2025-05-14 20:51:06,821] Trial 4 finished with value: 0.7318507119343847 and parameters: {'depth': 10, 'l2_leaf_reg': 3.9809626318847378, 'min_data_in_leaf': 97, 'learning_rate': 0.03234977413751476, 'iterations': 2586, 'subsample': 0.7050128434646126, 'rsm': 0.7554417672929925}. Best is trial 2 with value: 0.7326064196036878.\n",
      "[I 2025-05-14 20:52:40,569] Trial 5 finished with value: 0.7312983102485568 and parameters: {'depth': 4, 'l2_leaf_reg': 8.597490718596022, 'min_data_in_leaf': 79, 'learning_rate': 0.10741157689586445, 'iterations': 810, 'subsample': 0.6922877621907828, 'rsm': 0.7974649986625133}. Best is trial 2 with value: 0.7326064196036878.\n",
      "[I 2025-05-14 20:55:16,601] Trial 6 finished with value: 0.7322957975224419 and parameters: {'depth': 7, 'l2_leaf_reg': 2.068086929312998, 'min_data_in_leaf': 87, 'learning_rate': 0.07825161348870115, 'iterations': 1477, 'subsample': 0.73140192239517, 'rsm': 0.5342681086184753}. Best is trial 2 with value: 0.7326064196036878.\n",
      "[I 2025-05-14 20:57:53,772] Trial 7 finished with value: 0.732413249290633 and parameters: {'depth': 5, 'l2_leaf_reg': 2.9099116696389764, 'min_data_in_leaf': 100, 'learning_rate': 0.11095880331177607, 'iterations': 2954, 'subsample': 0.5579470790056957, 'rsm': 0.671981188427566}. Best is trial 2 with value: 0.7326064196036878.\n",
      "[I 2025-05-14 20:59:37,321] Trial 8 finished with value: 0.7310885122936986 and parameters: {'depth': 7, 'l2_leaf_reg': 4.804109229231767, 'min_data_in_leaf': 26, 'learning_rate': 0.052077426333909604, 'iterations': 684, 'subsample': 0.8189873552482534, 'rsm': 0.6025769647716589}. Best is trial 2 with value: 0.7326064196036878.\n",
      "[I 2025-05-14 21:04:58,420] Trial 9 finished with value: 0.7329753596510605 and parameters: {'depth': 7, 'l2_leaf_reg': 1.6666741476302442, 'min_data_in_leaf': 55, 'learning_rate': 0.028743413344942865, 'iterations': 2746, 'subsample': 0.619542813636544, 'rsm': 0.5569269095835772}. Best is trial 9 with value: 0.7329753596510605.\n",
      "[I 2025-05-14 21:06:29,430] Trial 10 finished with value: 0.731758980287189 and parameters: {'depth': 5, 'l2_leaf_reg': 1.0359237947500808, 'min_data_in_leaf': 49, 'learning_rate': 0.1878736684577297, 'iterations': 2291, 'subsample': 0.9608633171460137, 'rsm': 0.9651438025784261}. Best is trial 9 with value: 0.7329753596510605.\n",
      "[I 2025-05-14 21:10:33,145] Trial 11 finished with value: 0.7322721250989889 and parameters: {'depth': 8, 'l2_leaf_reg': 6.986453578274329, 'min_data_in_leaf': 20, 'learning_rate': 0.02223688986862272, 'iterations': 1863, 'subsample': 0.5603570373204576, 'rsm': 0.8761527272547336}. Best is trial 9 with value: 0.7329753596510605.\n",
      "[I 2025-05-14 21:13:07,116] Trial 12 finished with value: 0.729842300768734 and parameters: {'depth': 6, 'l2_leaf_reg': 6.872893400004931, 'min_data_in_leaf': 60, 'learning_rate': 0.02224181887092568, 'iterations': 1307, 'subsample': 0.6212972161020012, 'rsm': 0.6934443950743105}. Best is trial 9 with value: 0.7329753596510605.\n",
      "[I 2025-05-14 21:18:09,339] Trial 13 finished with value: 0.7330298398444113 and parameters: {'depth': 8, 'l2_leaf_reg': 6.564651267280131, 'min_data_in_leaf': 11, 'learning_rate': 0.02698333582868525, 'iterations': 2401, 'subsample': 0.5053246993618621, 'rsm': 0.848331161531638}. Best is trial 13 with value: 0.7330298398444113.\n",
      "[I 2025-05-14 21:23:19,050] Trial 14 finished with value: 0.7326911249895094 and parameters: {'depth': 8, 'l2_leaf_reg': 5.714800064555691, 'min_data_in_leaf': 38, 'learning_rate': 0.021574970492266234, 'iterations': 2424, 'subsample': 0.5066671949338709, 'rsm': 0.8761336342864687}. Best is trial 13 with value: 0.7330298398444113.\n",
      "[I 2025-05-14 21:26:17,156] Trial 15 finished with value: 0.7324343312129129 and parameters: {'depth': 8, 'l2_leaf_reg': 5.995124480777988, 'min_data_in_leaf': 36, 'learning_rate': 0.058388421110881834, 'iterations': 2699, 'subsample': 0.5193978869520307, 'rsm': 0.8611139205629126}. Best is trial 13 with value: 0.7330298398444113.\n",
      "[I 2025-05-14 21:30:22,933] Trial 16 finished with value: 0.7309255632551264 and parameters: {'depth': 6, 'l2_leaf_reg': 4.700613299559984, 'min_data_in_leaf': 11, 'learning_rate': 0.01676267111770201, 'iterations': 2240, 'subsample': 0.5921556112541402, 'rsm': 0.9905200121349171}. Best is trial 13 with value: 0.7330298398444113.\n",
      "[I 2025-05-14 21:35:29,513] Trial 17 finished with value: 0.7327234027425064 and parameters: {'depth': 9, 'l2_leaf_reg': 9.943533781804124, 'min_data_in_leaf': 65, 'learning_rate': 0.02824257515511039, 'iterations': 1956, 'subsample': 0.5945783015884749, 'rsm': 0.8146495878313252}. Best is trial 13 with value: 0.7330298398444113.\n",
      "[I 2025-05-14 21:41:43,305] Trial 18 finished with value: 0.7312589165455741 and parameters: {'depth': 9, 'l2_leaf_reg': 6.8319113004995256, 'min_data_in_leaf': 47, 'learning_rate': 0.010102722226141959, 'iterations': 2480, 'subsample': 0.5097000303236239, 'rsm': 0.9522955947621968}. Best is trial 13 with value: 0.7330298398444113.\n",
      "[I 2025-05-14 21:47:46,721] Trial 19 finished with value: 0.7328270842552503 and parameters: {'depth': 5, 'l2_leaf_reg': 4.031463025332702, 'min_data_in_leaf': 12, 'learning_rate': 0.03878226810252393, 'iterations': 2963, 'subsample': 0.9971166873199877, 'rsm': 0.7256146761161745}. Best is trial 13 with value: 0.7330298398444113.\n",
      "[I 2025-05-14 21:51:35,337] Trial 20 finished with value: 0.7328040260041883 and parameters: {'depth': 6, 'l2_leaf_reg': 1.6204900405626042, 'min_data_in_leaf': 37, 'learning_rate': 0.06268913278153788, 'iterations': 2629, 'subsample': 0.6412719934115507, 'rsm': 0.6239011733685887}. Best is trial 13 with value: 0.7330298398444113.\n",
      "[I 2025-05-14 21:57:01,899] Trial 21 finished with value: 0.7321533795426921 and parameters: {'depth': 4, 'l2_leaf_reg': 4.325300901277146, 'min_data_in_leaf': 13, 'learning_rate': 0.03974157201819545, 'iterations': 2979, 'subsample': 0.953044256201764, 'rsm': 0.7212154468464094}. Best is trial 13 with value: 0.7330298398444113.\n",
      "[I 2025-05-14 22:02:30,095] Trial 22 finished with value: 0.732167212659113 and parameters: {'depth': 5, 'l2_leaf_reg': 3.594963893132041, 'min_data_in_leaf': 18, 'learning_rate': 0.028405873324317387, 'iterations': 2741, 'subsample': 0.9181105859773159, 'rsm': 0.8168259923668184}. Best is trial 13 with value: 0.7330298398444113.\n",
      "[I 2025-05-14 22:08:04,339] Trial 23 finished with value: 0.7320498110631302 and parameters: {'depth': 8, 'l2_leaf_reg': 5.129876144494622, 'min_data_in_leaf': 10, 'learning_rate': 0.016903373569950732, 'iterations': 2185, 'subsample': 0.8824894347343739, 'rsm': 0.9244921156407907}. Best is trial 13 with value: 0.7330298398444113.\n",
      "[I 2025-05-14 22:14:27,150] Trial 24 finished with value: 0.7331792792939333 and parameters: {'depth': 7, 'l2_leaf_reg': 6.238475099689444, 'min_data_in_leaf': 29, 'learning_rate': 0.02626367266035725, 'iterations': 2862, 'subsample': 0.7756788204117906, 'rsm': 0.563378605916552}. Best is trial 24 with value: 0.7331792792939333.\n",
      "[I 2025-05-14 22:19:57,255] Trial 25 finished with value: 0.7329543128740924 and parameters: {'depth': 7, 'l2_leaf_reg': 6.246559626624156, 'min_data_in_leaf': 28, 'learning_rate': 0.02754998957786997, 'iterations': 2409, 'subsample': 0.7864399902579632, 'rsm': 0.5636993412802598}. Best is trial 24 with value: 0.7331792792939333.\n",
      "[I 2025-05-14 22:26:12,776] Trial 26 finished with value: 0.7329853197847963 and parameters: {'depth': 8, 'l2_leaf_reg': 7.7223952624477965, 'min_data_in_leaf': 42, 'learning_rate': 0.020623065741422596, 'iterations': 2771, 'subsample': 0.5517398506404239, 'rsm': 0.5898259203137372}. Best is trial 24 with value: 0.7331792792939333.\n",
      "[I 2025-05-14 22:32:50,486] Trial 27 finished with value: 0.732175658716949 and parameters: {'depth': 9, 'l2_leaf_reg': 7.6765364133632215, 'min_data_in_leaf': 41, 'learning_rate': 0.014081237971471275, 'iterations': 2526, 'subsample': 0.5408169166637719, 'rsm': 0.6197654346553694}. Best is trial 24 with value: 0.7331792792939333.\n",
      "[I 2025-05-14 22:38:05,143] Trial 28 finished with value: 0.7319712226775669 and parameters: {'depth': 8, 'l2_leaf_reg': 7.91109286374135, 'min_data_in_leaf': 31, 'learning_rate': 0.01829231401243832, 'iterations': 2055, 'subsample': 0.8245978342859641, 'rsm': 0.5084822870354032}. Best is trial 24 with value: 0.7331792792939333.\n",
      "[I 2025-05-14 22:41:39,591] Trial 29 finished with value: 0.7321181918196732 and parameters: {'depth': 9, 'l2_leaf_reg': 8.836384829930136, 'min_data_in_leaf': 25, 'learning_rate': 0.049264271959955606, 'iterations': 2799, 'subsample': 0.6769169654447205, 'rsm': 0.5910548553999396}. Best is trial 24 with value: 0.7331792792939333.\n"
     ]
    },
    {
     "name": "stdout",
     "output_type": "stream",
     "text": [
      "✅ 最佳参数:\n",
      "{'depth': 7, 'l2_leaf_reg': 6.238475099689444, 'min_data_in_leaf': 29, 'learning_rate': 0.02626367266035725, 'iterations': 2862, 'subsample': 0.7756788204117906, 'rsm': 0.563378605916552}\n",
      "✅ 最佳AUC:\n",
      "0.7331792792939333\n"
     ]
    }
   ],
   "source": [
    "import optuna\n",
    "from catboost import CatBoostClassifier, Pool\n",
    "from sklearn.model_selection import StratifiedKFold\n",
    "from sklearn.metrics import roc_auc_score\n",
    "import numpy as np\n",
    "\n",
    "def catboost_objective_all(trial):\n",
    "    params = {\n",
    "        'loss_function': 'Logloss',\n",
    "        'eval_metric': 'AUC',\n",
    "        'random_seed': 42,\n",
    "        'verbose': 0,\n",
    "        'depth': trial.suggest_int('depth', 3, 10),\n",
    "        'l2_leaf_reg': trial.suggest_float('l2_leaf_reg', 1.0, 10.0),\n",
    "        'min_data_in_leaf': trial.suggest_int('min_data_in_leaf', 10, 100),\n",
    "        'learning_rate': trial.suggest_float('learning_rate', 0.01, 0.2, log=True),\n",
    "        'iterations': trial.suggest_int('iterations', 500, 3000),\n",
    "        'subsample': trial.suggest_float('subsample', 0.5, 1.0),\n",
    "        'rsm': trial.suggest_float('rsm', 0.5, 1.0)\n",
    "    }\n",
    "\n",
    "    cv = StratifiedKFold(n_splits=5, shuffle=True, random_state=42)\n",
    "    aucs = []\n",
    "\n",
    "    for train_idx, valid_idx in cv.split(X_os, y_os):\n",
    "        X_train, X_valid = X_os.iloc[train_idx], X_os.iloc[valid_idx]\n",
    "        y_train, y_valid = y_os.iloc[train_idx], y_os.iloc[valid_idx]\n",
    "\n",
    "        train_pool = Pool(X_train, y_train)\n",
    "        valid_pool = Pool(X_valid, y_valid)\n",
    "\n",
    "        model = CatBoostClassifier(**params)\n",
    "        model.fit(train_pool, eval_set=valid_pool, early_stopping_rounds=200, use_best_model=True)\n",
    "\n",
    "        preds = model.predict_proba(X_valid)[:, 1]\n",
    "        auc = roc_auc_score(y_valid, preds)\n",
    "        aucs.append(auc)\n",
    "\n",
    "    return np.mean(aucs)\n",
    "\n",
    "# 执行调参\n",
    "study_cat_all = optuna.create_study(direction='maximize')\n",
    "study_cat_all.optimize(catboost_objective_all, n_trials=50, n_jobs=5)\n",
    "\n",
    "print(\"✅ Best Parameters:\")\n",
    "print(study_cat_all.best_params)\n",
    "print(\"✅ Best AUC:\")\n",
    "print(study_cat_all.best_value)"
   ]
  },
  {
   "cell_type": "code",
   "execution_count": null,
   "id": "8155efdb-1bcd-4fac-a1a0-3a7e25af8dda",
   "metadata": {},
   "outputs": [],
   "source": []
  },
  {
   "cell_type": "code",
   "execution_count": 8,
   "id": "a7359007-0c42-4eba-b6f7-fdc9f6c04dee",
   "metadata": {
    "scrolled": true
   },
   "outputs": [
    {
     "name": "stderr",
     "output_type": "stream",
     "text": [
      "[I 2025-05-15 17:45:31,267] A new study created in memory with name: no-name-06a86a58-a9db-4ad1-a04e-63424fde7ea8\n"
     ]
    },
    {
     "name": "stdout",
     "output_type": "stream",
     "text": [
      "--- Starting Stage 1: Tuning tree structure parameters (depth, l2_leaf_reg, min_data_in_leaf) ---\n"
     ]
    },
    {
     "data": {
      "application/vnd.jupyter.widget-view+json": {
       "model_id": "9226929e67404874b06760c93d4d8213",
       "version_major": 2,
       "version_minor": 0
      },
      "text/plain": [
       "  0%|          | 0/50 [00:00<?, ?it/s]"
      ]
     },
     "metadata": {},
     "output_type": "display_data"
    },
    {
     "name": "stdout",
     "output_type": "stream",
     "text": [
      "[I 2025-05-15 17:48:35,422] Trial 0 finished with value: 0.7246639881205373 and parameters: {'depth': 4, 'l2_leaf_reg': 1.9588988171389898, 'min_data_in_leaf': 10}. Best is trial 0 with value: 0.7246639881205373.\n",
      "[I 2025-05-15 17:48:40,773] Trial 1 finished with value: 0.7246565875745328 and parameters: {'depth': 4, 'l2_leaf_reg': 0.27411652429850525, 'min_data_in_leaf': 7}. Best is trial 0 with value: 0.7246639881205373.\n",
      "[I 2025-05-15 17:48:40,789] Trial 2 finished with value: 0.7246911676727584 and parameters: {'depth': 4, 'l2_leaf_reg': 0.2189374985258161, 'min_data_in_leaf': 17}. Best is trial 2 with value: 0.7246911676727584.\n",
      "[I 2025-05-15 17:48:40,813] Trial 4 finished with value: 0.7274885220444203 and parameters: {'depth': 6, 'l2_leaf_reg': 0.01005100742183429, 'min_data_in_leaf': 4}. Best is trial 4 with value: 0.7274885220444203.\n",
      "[I 2025-05-15 17:48:40,832] Trial 3 finished with value: 0.7274146376048061 and parameters: {'depth': 6, 'l2_leaf_reg': 0.5519690068155303, 'min_data_in_leaf': 8}. Best is trial 4 with value: 0.7274885220444203.\n",
      "[I 2025-05-15 17:51:16,866] Trial 8 finished with value: 0.724647403804612 and parameters: {'depth': 4, 'l2_leaf_reg': 0.011822715430720639, 'min_data_in_leaf': 10}. Best is trial 4 with value: 0.7274885220444203.\n",
      "[I 2025-05-15 17:51:52,444] Trial 9 finished with value: 0.7274961927769077 and parameters: {'depth': 6, 'l2_leaf_reg': 2.467366160335511, 'min_data_in_leaf': 5}. Best is trial 9 with value: 0.7274961927769077.\n",
      "[I 2025-05-15 17:51:57,671] Trial 7 finished with value: 0.7284579580809172 and parameters: {'depth': 7, 'l2_leaf_reg': 1.903797164721329, 'min_data_in_leaf': 16}. Best is trial 7 with value: 0.7284579580809172.\n",
      "[I 2025-05-15 17:51:57,690] Trial 5 finished with value: 0.7283357543775133 and parameters: {'depth': 7, 'l2_leaf_reg': 0.012303446641705441, 'min_data_in_leaf': 7}. Best is trial 7 with value: 0.7284579580809172.\n",
      "[I 2025-05-15 17:54:02,227] Trial 6 finished with value: 0.7300198825539613 and parameters: {'depth': 10, 'l2_leaf_reg': 4.5958489714736235, 'min_data_in_leaf': 17}. Best is trial 6 with value: 0.7300198825539613.\n",
      "[I 2025-05-15 17:54:30,324] Trial 12 finished with value: 0.7246850924951611 and parameters: {'depth': 4, 'l2_leaf_reg': 0.39508417509405686, 'min_data_in_leaf': 11}. Best is trial 6 with value: 0.7300198825539613.\n",
      "[I 2025-05-15 17:54:34,246] Trial 10 finished with value: 0.7274721016014333 and parameters: {'depth': 6, 'l2_leaf_reg': 0.06711667322678512, 'min_data_in_leaf': 3}. Best is trial 6 with value: 0.7300198825539613.\n",
      "[I 2025-05-15 17:55:16,000] Trial 11 finished with value: 0.7284002733604605 and parameters: {'depth': 7, 'l2_leaf_reg': 0.12754733060247386, 'min_data_in_leaf': 13}. Best is trial 6 with value: 0.7300198825539613.\n",
      "[I 2025-05-15 17:55:19,996] Trial 13 finished with value: 0.7284856377464161 and parameters: {'depth': 7, 'l2_leaf_reg': 4.268585576474544, 'min_data_in_leaf': 7}. Best is trial 6 with value: 0.7300198825539613.\n",
      "[I 2025-05-15 17:59:50,616] Trial 14 finished with value: 0.7300203612084918 and parameters: {'depth': 10, 'l2_leaf_reg': 8.839475974318974, 'min_data_in_leaf': 20}. Best is trial 14 with value: 0.7300203612084918.\n",
      "[I 2025-05-15 18:00:23,209] Trial 15 finished with value: 0.7300061434616604 and parameters: {'depth': 10, 'l2_leaf_reg': 7.628043354080594, 'min_data_in_leaf': 19}. Best is trial 14 with value: 0.7300203612084918.\n",
      "[I 2025-05-15 18:00:35,881] Trial 16 finished with value: 0.7299397005289018 and parameters: {'depth': 10, 'l2_leaf_reg': 9.670311510023584, 'min_data_in_leaf': 19}. Best is trial 14 with value: 0.7300203612084918.\n",
      "[I 2025-05-15 18:01:11,623] Trial 17 finished with value: 0.7300594007465208 and parameters: {'depth': 10, 'l2_leaf_reg': 8.269933261270417, 'min_data_in_leaf': 19}. Best is trial 17 with value: 0.7300594007465208.\n",
      "[I 2025-05-15 18:01:15,406] Trial 18 finished with value: 0.7299955872183294 and parameters: {'depth': 10, 'l2_leaf_reg': 7.400728769037817, 'min_data_in_leaf': 20}. Best is trial 17 with value: 0.7300594007465208.\n",
      "[I 2025-05-15 18:04:18,893] Trial 21 finished with value: 0.7295137432493182 and parameters: {'depth': 9, 'l2_leaf_reg': 1.371885252223508, 'min_data_in_leaf': 15}. Best is trial 17 with value: 0.7300594007465208.\n",
      "[I 2025-05-15 18:04:50,615] Trial 23 finished with value: 0.7295645927727181 and parameters: {'depth': 9, 'l2_leaf_reg': 1.136810675510663, 'min_data_in_leaf': 14}. Best is trial 17 with value: 0.7300594007465208.\n",
      "[I 2025-05-15 18:04:50,649] Trial 22 finished with value: 0.7295649245714346 and parameters: {'depth': 9, 'l2_leaf_reg': 0.9289482238878425, 'min_data_in_leaf': 20}. Best is trial 17 with value: 0.7300594007465208.\n",
      "[I 2025-05-15 18:05:05,786] Trial 19 finished with value: 0.7300602678234019 and parameters: {'depth': 10, 'l2_leaf_reg': 8.755360778870543, 'min_data_in_leaf': 20}. Best is trial 19 with value: 0.7300602678234019.\n",
      "[I 2025-05-15 18:05:37,719] Trial 20 finished with value: 0.7300413964505433 and parameters: {'depth': 10, 'l2_leaf_reg': 9.182189565658266, 'min_data_in_leaf': 20}. Best is trial 19 with value: 0.7300602678234019.\n",
      "[I 2025-05-15 18:07:44,238] Trial 24 finished with value: 0.7295397958522283 and parameters: {'depth': 9, 'l2_leaf_reg': 0.8429160166958704, 'min_data_in_leaf': 14}. Best is trial 19 with value: 0.7300602678234019.\n",
      "[I 2025-05-15 18:07:59,691] Trial 26 finished with value: 0.7291869583552966 and parameters: {'depth': 8, 'l2_leaf_reg': 3.6787585206469817, 'min_data_in_leaf': 17}. Best is trial 19 with value: 0.7300602678234019.\n",
      "[I 2025-05-15 18:08:13,162] Trial 25 finished with value: 0.7296487842581554 and parameters: {'depth': 9, 'l2_leaf_reg': 4.174847104714967, 'min_data_in_leaf': 18}. Best is trial 19 with value: 0.7300602678234019.\n",
      "[I 2025-05-15 18:08:18,030] Trial 27 finished with value: 0.7291638762003745 and parameters: {'depth': 8, 'l2_leaf_reg': 4.639968299697881, 'min_data_in_leaf': 18}. Best is trial 19 with value: 0.7300602678234019.\n",
      "[I 2025-05-15 18:09:06,209] Trial 28 finished with value: 0.7296115870877322 and parameters: {'depth': 9, 'l2_leaf_reg': 3.9070063155773345, 'min_data_in_leaf': 1}. Best is trial 19 with value: 0.7300602678234019.\n",
      "[I 2025-05-15 18:10:35,195] Trial 29 finished with value: 0.7291125315684287 and parameters: {'depth': 8, 'l2_leaf_reg': 3.583261836405025, 'min_data_in_leaf': 18}. Best is trial 19 with value: 0.7300602678234019.\n",
      "[I 2025-05-15 18:11:00,890] Trial 30 finished with value: 0.7291719504147056 and parameters: {'depth': 8, 'l2_leaf_reg': 4.6059807364672345, 'min_data_in_leaf': 1}. Best is trial 19 with value: 0.7300602678234019.\n",
      "[I 2025-05-15 18:11:15,346] Trial 31 finished with value: 0.7291591348238231 and parameters: {'depth': 8, 'l2_leaf_reg': 3.0149443533463725, 'min_data_in_leaf': 18}. Best is trial 19 with value: 0.7300602678234019.\n",
      "[I 2025-05-15 18:11:21,053] Trial 32 finished with value: 0.7291824194483423 and parameters: {'depth': 8, 'l2_leaf_reg': 2.651948072118742, 'min_data_in_leaf': 1}. Best is trial 19 with value: 0.7300602678234019.\n",
      "[I 2025-05-15 18:12:09,589] Trial 33 finished with value: 0.7291864052822794 and parameters: {'depth': 8, 'l2_leaf_reg': 2.2628457951443606, 'min_data_in_leaf': 13}. Best is trial 19 with value: 0.7300602678234019.\n",
      "[I 2025-05-15 18:16:12,134] Trial 34 finished with value: 0.7298124107222709 and parameters: {'depth': 10, 'l2_leaf_reg': 1.9425313203608428, 'min_data_in_leaf': 12}. Best is trial 19 with value: 0.7300602678234019.\n",
      "[I 2025-05-15 18:16:31,775] Trial 35 finished with value: 0.7300456869620907 and parameters: {'depth': 10, 'l2_leaf_reg': 9.685062206291281, 'min_data_in_leaf': 20}. Best is trial 19 with value: 0.7300602678234019.\n",
      "[I 2025-05-15 18:16:56,851] Trial 36 finished with value: 0.7300666244612868 and parameters: {'depth': 10, 'l2_leaf_reg': 9.802402547379781, 'min_data_in_leaf': 20}. Best is trial 36 with value: 0.7300666244612868.\n",
      "[I 2025-05-15 18:17:04,130] Trial 37 finished with value: 0.7301141902455547 and parameters: {'depth': 10, 'l2_leaf_reg': 9.329268081111863, 'min_data_in_leaf': 20}. Best is trial 37 with value: 0.7301141902455547.\n",
      "[I 2025-05-15 18:17:55,787] Trial 38 finished with value: 0.7299968723663794 and parameters: {'depth': 10, 'l2_leaf_reg': 8.420867744786708, 'min_data_in_leaf': 20}. Best is trial 37 with value: 0.7301141902455547.\n",
      "[I 2025-05-15 18:20:38,320] Trial 43 finished with value: 0.7263172085791764 and parameters: {'depth': 5, 'l2_leaf_reg': 5.994443145386085, 'min_data_in_leaf': 16}. Best is trial 37 with value: 0.7301141902455547.\n",
      "[I 2025-05-15 18:20:58,252] Trial 42 finished with value: 0.7296434660489829 and parameters: {'depth': 9, 'l2_leaf_reg': 6.181209770977715, 'min_data_in_leaf': 16}. Best is trial 37 with value: 0.7301141902455547.\n",
      "[I 2025-05-15 18:21:45,244] Trial 39 finished with value: 0.7300288222754189 and parameters: {'depth': 10, 'l2_leaf_reg': 9.703318885191594, 'min_data_in_leaf': 20}. Best is trial 37 with value: 0.7301141902455547.\n",
      "[I 2025-05-15 18:22:03,942] Trial 40 finished with value: 0.7300543975044274 and parameters: {'depth': 10, 'l2_leaf_reg': 7.340390483410746, 'min_data_in_leaf': 16}. Best is trial 37 with value: 0.7301141902455547.\n",
      "[I 2025-05-15 18:22:31,068] Trial 41 finished with value: 0.7300480915827864 and parameters: {'depth': 10, 'l2_leaf_reg': 6.111058710107905, 'min_data_in_leaf': 16}. Best is trial 37 with value: 0.7301141902455547.\n",
      "[I 2025-05-15 18:24:20,470] Trial 44 finished with value: 0.7291162948311818 and parameters: {'depth': 9, 'l2_leaf_reg': 0.050097628973692264, 'min_data_in_leaf': 16}. Best is trial 37 with value: 0.7301141902455547.\n",
      "[I 2025-05-15 18:26:09,944] Trial 48 finished with value: 0.7289910951577732 and parameters: {'depth': 9, 'l2_leaf_reg': 0.04015605649697313, 'min_data_in_leaf': 19}. Best is trial 37 with value: 0.7301141902455547.\n",
      "[I 2025-05-15 18:26:30,834] Trial 45 finished with value: 0.7299728244257357 and parameters: {'depth': 10, 'l2_leaf_reg': 5.971444281146397, 'min_data_in_leaf': 19}. Best is trial 37 with value: 0.7301141902455547.\n",
      "[I 2025-05-15 18:26:52,843] Trial 46 finished with value: 0.730000213181573 and parameters: {'depth': 10, 'l2_leaf_reg': 6.3567575099260285, 'min_data_in_leaf': 19}. Best is trial 37 with value: 0.7301141902455547.\n",
      "[I 2025-05-15 18:27:06,415] Trial 47 finished with value: 0.730003109288082 and parameters: {'depth': 10, 'l2_leaf_reg': 6.177516322454055, 'min_data_in_leaf': 19}. Best is trial 37 with value: 0.7301141902455547.\n",
      "[I 2025-05-15 18:27:59,341] Trial 49 finished with value: 0.7301458879422548 and parameters: {'depth': 10, 'l2_leaf_reg': 5.723627043752613, 'min_data_in_leaf': 17}. Best is trial 49 with value: 0.7301458879422548.\n",
      "\n",
      "--- Stage 1 Results ---\n",
      "✅ Best parameters from Stage 1:\n",
      "{'depth': 10, 'l2_leaf_reg': 5.723627043752613, 'min_data_in_leaf': 17}\n",
      "✅ Best AUC from Stage 1:\n",
      "0.7301458879422548\n"
     ]
    }
   ],
   "source": [
    "import optuna\n",
    "from catboost import CatBoostClassifier, Pool\n",
    "from sklearn.model_selection import StratifiedKFold, cross_val_score\n",
    "from sklearn.metrics import roc_auc_score\n",
    "import numpy as np # Make sure numpy is imported\n",
    "\n",
    "\n",
    "# --- Stage 1: Tune tree structure parameters ---\n",
    "print(\"--- Starting Stage 1: Tuning tree structure parameters (depth, l2_leaf_reg, min_data_in_leaf) ---\")\n",
    "\n",
    "def catboost_objective_stage1(trial):\n",
    "    # Define parameters to be tuned in this stage\n",
    "    params = {\n",
    "        'loss_function': 'Logloss',\n",
    "        'eval_metric': 'AUC',\n",
    "        'random_seed': 42,\n",
    "        'verbose': 0,  # Suppress CatBoost output during tuning\n",
    "        'depth': trial.suggest_int('depth', 4, 10),\n",
    "        'l2_leaf_reg': trial.suggest_float('l2_leaf_reg', 1e-2, 10.0, log=True),\n",
    "        'min_data_in_leaf': trial.suggest_int('min_data_in_leaf', 1, 20)\n",
    "        # 'iterations' and 'learning_rate' are fixed or set to sensible defaults for this stage\n",
    "    }\n",
    "\n",
    "    cv = StratifiedKFold(n_splits=5, shuffle=True, random_state=42)\n",
    "    aucs = []\n",
    "\n",
    "    for train_idx, valid_idx in cv.split(X_os, y_os):\n",
    "        X_train, X_valid = X_os.iloc[train_idx], X_os.iloc[valid_idx]\n",
    "        y_train, y_valid = y_os.iloc[train_idx], y_os.iloc[valid_idx]\n",
    "\n",
    "        train_pool = Pool(X_train, y_train)\n",
    "        valid_pool = Pool(X_valid, y_valid)\n",
    "\n",
    "        # Using a fixed number of iterations and early stopping for faster evaluation in this stage\n",
    "        model = CatBoostClassifier(**params, iterations=500, early_stopping_rounds=200)\n",
    "        model.fit(train_pool, eval_set=valid_pool, use_best_model=True)\n",
    "        \n",
    "        preds = model.predict_proba(X_valid)[:, 1]\n",
    "        auc = roc_auc_score(y_valid, preds)\n",
    "        aucs.append(auc)\n",
    "\n",
    "    return np.mean(aucs)\n",
    "\n",
    "# Create an Optuna study object and optimize\n",
    "study_cat1 = optuna.create_study(direction='maximize')\n",
    "# Note: n_jobs=50 is very high, ensure your machine has enough cores or adjust accordingly.\n",
    "study_cat1.optimize(catboost_objective_stage1, n_trials=50, n_jobs=5, show_progress_bar=True)\n",
    "\n",
    "print(\"\\n--- Stage 1 Results ---\")\n",
    "print(\"✅ Best parameters from Stage 1:\")\n",
    "print(study_cat1.best_params)\n",
    "print(\"✅ Best AUC from Stage 1:\")\n",
    "print(study_cat1.best_value)"
   ]
  },
  {
   "cell_type": "code",
   "execution_count": null,
   "id": "28605ab5-3c06-447a-9f2c-1740e6798dab",
   "metadata": {},
   "outputs": [],
   "source": []
  },
  {
   "cell_type": "code",
   "execution_count": 10,
   "id": "2dfe828c-aaf0-4079-82e1-1e1835357a2d",
   "metadata": {
    "scrolled": true
   },
   "outputs": [
    {
     "name": "stderr",
     "output_type": "stream",
     "text": [
      "[I 2025-05-16 11:16:06,146] A new study created in memory with name: no-name-f84f687e-e6f1-44bf-a333-4bfb763147a6\n"
     ]
    },
    {
     "name": "stdout",
     "output_type": "stream",
     "text": [
      "\n",
      "--- Starting Stage 2: Tuning learning_rate and iterations ---\n"
     ]
    },
    {
     "data": {
      "application/vnd.jupyter.widget-view+json": {
       "model_id": "07fc0878f74042cf87d771cfadb6a980",
       "version_major": 2,
       "version_minor": 0
      },
      "text/plain": [
       "  0%|          | 0/50 [00:00<?, ?it/s]"
      ]
     },
     "metadata": {},
     "output_type": "display_data"
    },
    {
     "name": "stdout",
     "output_type": "stream",
     "text": [
      "[I 2025-05-16 11:24:43,326] Trial 2 finished with value: 0.7279939380023641 and parameters: {'learning_rate': 0.19094176229826773, 'iterations': 5185}. Best is trial 2 with value: 0.7279939380023641.\n",
      "[I 2025-05-16 11:24:54,716] Trial 3 finished with value: 0.7279987025986399 and parameters: {'learning_rate': 0.19835163484493343, 'iterations': 1304}. Best is trial 3 with value: 0.7279987025986399.\n",
      "[I 2025-05-16 11:26:05,197] Trial 1 finished with value: 0.7290710566710181 and parameters: {'learning_rate': 0.14159106746473316, 'iterations': 2911}. Best is trial 1 with value: 0.7290710566710181.\n",
      "[I 2025-05-16 11:30:59,852] Trial 0 finished with value: 0.7307573232345248 and parameters: {'learning_rate': 0.08647228538948484, 'iterations': 1214}. Best is trial 0 with value: 0.7307573232345248.\n",
      "[I 2025-05-16 11:32:42,056] Trial 6 finished with value: 0.7282348464608551 and parameters: {'learning_rate': 0.18917366510931446, 'iterations': 867}. Best is trial 0 with value: 0.7307573232345248.\n",
      "[I 2025-05-16 11:33:33,424] Trial 4 finished with value: 0.7312656287250576 and parameters: {'learning_rate': 0.07152240288105825, 'iterations': 4763}. Best is trial 4 with value: 0.7312656287250576.\n",
      "[I 2025-05-16 11:38:08,888] Trial 5 finished with value: 0.7306922548809077 and parameters: {'learning_rate': 0.08898216199861143, 'iterations': 5270}. Best is trial 4 with value: 0.7312656287250576.\n",
      "[I 2025-05-16 11:40:32,100] Trial 10 finished with value: 0.7279047846035438 and parameters: {'learning_rate': 0.19853719106876952, 'iterations': 8704}. Best is trial 4 with value: 0.7312656287250576.\n",
      "[I 2025-05-16 11:44:55,679] Trial 8 finished with value: 0.731428270158267 and parameters: {'learning_rate': 0.07156630813874044, 'iterations': 1951}. Best is trial 8 with value: 0.731428270158267.\n",
      "[I 2025-05-16 12:00:54,146] Trial 9 finished with value: 0.7326885821001057 and parameters: {'learning_rate': 0.03372821783991901, 'iterations': 7720}. Best is trial 9 with value: 0.7326885821001057.\n",
      "[I 2025-05-16 12:01:57,473] Trial 11 finished with value: 0.7324253684660713 and parameters: {'learning_rate': 0.03799079414280592, 'iterations': 7700}. Best is trial 9 with value: 0.7326885821001057.\n",
      "[I 2025-05-16 12:08:22,450] Trial 12 finished with value: 0.7325849212584565 and parameters: {'learning_rate': 0.03375161792548629, 'iterations': 6220}. Best is trial 9 with value: 0.7326885821001057.\n",
      "[I 2025-05-16 12:34:32,299] Trial 13 finished with value: 0.7330185730034293 and parameters: {'learning_rate': 0.022851038662605995, 'iterations': 8283}. Best is trial 13 with value: 0.7330185730034293.\n",
      "[I 2025-05-16 12:50:50,425] Trial 7 finished with value: 0.7333802335696048 and parameters: {'learning_rate': 0.011737952055336016, 'iterations': 5761}. Best is trial 7 with value: 0.7333802335696048.\n",
      "[I 2025-05-16 13:07:13,600] Trial 14 finished with value: 0.7331162025029608 and parameters: {'learning_rate': 0.018208867989663462, 'iterations': 8691}. Best is trial 7 with value: 0.7333802335696048.\n",
      "[I 2025-05-16 13:09:30,637] Trial 15 finished with value: 0.7331748362775208 and parameters: {'learning_rate': 0.018512848353073548, 'iterations': 8854}. Best is trial 7 with value: 0.7333802335696048.\n",
      "[I 2025-05-16 13:20:21,342] Trial 16 finished with value: 0.7332789418227803 and parameters: {'learning_rate': 0.0160118990263455, 'iterations': 7059}. Best is trial 7 with value: 0.7333802335696048.\n",
      "[I 2025-05-16 13:43:26,319] Trial 17 finished with value: 0.7332129793183038 and parameters: {'learning_rate': 0.01766176714942894, 'iterations': 9634}. Best is trial 7 with value: 0.7333802335696048.\n",
      "[I 2025-05-16 14:14:32,252] Trial 18 finished with value: 0.7333031886155468 and parameters: {'learning_rate': 0.01313398699573207, 'iterations': 9338}. Best is trial 7 with value: 0.7333802335696048.\n",
      "[I 2025-05-16 14:37:00,099] Trial 20 finished with value: 0.733358383684378 and parameters: {'learning_rate': 0.011574431526151657, 'iterations': 9913}. Best is trial 7 with value: 0.7333802335696048.\n",
      "[I 2025-05-16 14:45:18,235] Trial 19 finished with value: 0.7334489615691066 and parameters: {'learning_rate': 0.010398367943436343, 'iterations': 9742}. Best is trial 19 with value: 0.7334489615691066.\n",
      "[I 2025-05-16 14:53:26,627] Trial 21 finished with value: 0.7336133573808074 and parameters: {'learning_rate': 0.010058801624786218, 'iterations': 6712}. Best is trial 21 with value: 0.7336133573808074.\n",
      "[I 2025-05-16 15:00:49,744] Trial 23 finished with value: 0.7329738103127007 and parameters: {'learning_rate': 0.010224478923364838, 'iterations': 3397}. Best is trial 21 with value: 0.7336133573808074.\n",
      "[I 2025-05-16 15:01:28,129] Trial 22 finished with value: 0.7333663317593825 and parameters: {'learning_rate': 0.010617018853393775, 'iterations': 6602}. Best is trial 21 with value: 0.7336133573808074.\n",
      "[I 2025-05-16 15:23:52,997] Trial 24 finished with value: 0.7330446528836977 and parameters: {'learning_rate': 0.010515430068126731, 'iterations': 3558}. Best is trial 21 with value: 0.7336133573808074.\n",
      "[I 2025-05-16 15:29:06,569] Trial 28 finished with value: 0.732818121911132 and parameters: {'learning_rate': 0.023945188827786533, 'iterations': 4239}. Best is trial 21 with value: 0.7336133573808074.\n",
      "[I 2025-05-16 15:31:54,119] Trial 27 finished with value: 0.733021007018217 and parameters: {'learning_rate': 0.02361710006537422, 'iterations': 6636}. Best is trial 21 with value: 0.7336133573808074.\n",
      "[I 2025-05-16 15:38:31,774] Trial 26 finished with value: 0.7329455932146482 and parameters: {'learning_rate': 0.010037449877451156, 'iterations': 3477}. Best is trial 21 with value: 0.7336133573808074.\n",
      "[I 2025-05-16 15:49:50,048] Trial 25 finished with value: 0.7334864123194835 and parameters: {'learning_rate': 0.01008848569040779, 'iterations': 9866}. Best is trial 21 with value: 0.7336133573808074.\n",
      "[I 2025-05-16 15:53:50,884] Trial 29 finished with value: 0.7329280920498645 and parameters: {'learning_rate': 0.023861401240254057, 'iterations': 5907}. Best is trial 21 with value: 0.7336133573808074.\n",
      "[I 2025-05-16 16:20:37,033] Trial 30 finished with value: 0.7332744330828679 and parameters: {'learning_rate': 0.01383214818707624, 'iterations': 5899}. Best is trial 21 with value: 0.7336133573808074.\n",
      "[I 2025-05-16 16:22:40,956] Trial 31 finished with value: 0.733383211409223 and parameters: {'learning_rate': 0.014140270009972474, 'iterations': 5806}. Best is trial 21 with value: 0.7336133573808074.\n",
      "[I 2025-05-16 16:26:51,703] Trial 32 finished with value: 0.7333956488746469 and parameters: {'learning_rate': 0.014765508698893228, 'iterations': 5524}. Best is trial 21 with value: 0.7336133573808074.\n",
      "[I 2025-05-16 16:44:20,875] Trial 33 finished with value: 0.7333090444034603 and parameters: {'learning_rate': 0.013751551899226337, 'iterations': 7867}. Best is trial 21 with value: 0.7336133573808074.\n",
      "[I 2025-05-16 16:55:11,506] Trial 34 finished with value: 0.7333581345538757 and parameters: {'learning_rate': 0.012723125825084888, 'iterations': 7440}. Best is trial 21 with value: 0.7336133573808074.\n",
      "[I 2025-05-16 16:57:39,150] Trial 39 finished with value: 0.7191818343849239 and parameters: {'learning_rate': 0.016410200716703384, 'iterations': 132}. Best is trial 21 with value: 0.7336133573808074.\n",
      "[I 2025-05-16 17:15:03,548] Trial 40 finished with value: 0.7320449879277702 and parameters: {'learning_rate': 0.04867029114076899, 'iterations': 9949}. Best is trial 21 with value: 0.7336133573808074.\n",
      "[I 2025-05-16 17:15:51,237] Trial 37 finished with value: 0.733309192134741 and parameters: {'learning_rate': 0.015276667425854469, 'iterations': 7592}. Best is trial 21 with value: 0.7336133573808074.\n",
      "[I 2025-05-16 17:17:13,474] Trial 36 finished with value: 0.7333591912348207 and parameters: {'learning_rate': 0.01458842692404412, 'iterations': 7347}. Best is trial 21 with value: 0.7336133573808074.\n",
      "[I 2025-05-16 17:19:49,069] Trial 35 finished with value: 0.7334267391735741 and parameters: {'learning_rate': 0.013375888042978618, 'iterations': 7630}. Best is trial 21 with value: 0.7336133573808074.\n",
      "[I 2025-05-16 17:32:05,338] Trial 38 finished with value: 0.7333395178694422 and parameters: {'learning_rate': 0.015503202957264981, 'iterations': 9948}. Best is trial 21 with value: 0.7336133573808074.\n",
      "[I 2025-05-16 17:49:38,992] Trial 42 finished with value: 0.7329657198762312 and parameters: {'learning_rate': 0.020499767845350677, 'iterations': 9289}. Best is trial 21 with value: 0.7336133573808074.\n",
      "[I 2025-05-16 17:50:55,441] Trial 43 finished with value: 0.7330460382304101 and parameters: {'learning_rate': 0.02050387972014172, 'iterations': 4613}. Best is trial 21 with value: 0.7336133573808074.\n",
      "[I 2025-05-16 17:55:53,852] Trial 41 finished with value: 0.7329864703420041 and parameters: {'learning_rate': 0.01991738523786198, 'iterations': 9234}. Best is trial 21 with value: 0.7336133573808074.\n",
      "[I 2025-05-16 17:57:28,185] Trial 46 finished with value: 0.7301254216838327 and parameters: {'learning_rate': 0.11272404042688579, 'iterations': 4528}. Best is trial 21 with value: 0.7336133573808074.\n",
      "[I 2025-05-16 17:58:22,380] Trial 44 finished with value: 0.7330840533426611 and parameters: {'learning_rate': 0.02038966631090193, 'iterations': 9205}. Best is trial 21 with value: 0.7336133573808074.\n",
      "[I 2025-05-16 18:27:58,370] Trial 45 finished with value: 0.733364393019498 and parameters: {'learning_rate': 0.011826903985981366, 'iterations': 4814}. Best is trial 21 with value: 0.7336133573808074.\n",
      "[I 2025-05-16 18:38:43,093] Trial 47 finished with value: 0.7334635162078298 and parameters: {'learning_rate': 0.011888179302694932, 'iterations': 5210}. Best is trial 21 with value: 0.7336133573808074.\n",
      "[I 2025-05-16 18:39:55,453] Trial 49 finished with value: 0.733448864982009 and parameters: {'learning_rate': 0.011898249351258152, 'iterations': 5374}. Best is trial 21 with value: 0.7336133573808074.\n",
      "[I 2025-05-16 18:40:43,648] Trial 48 finished with value: 0.7334095847574084 and parameters: {'learning_rate': 0.011754216810032393, 'iterations': 5003}. Best is trial 21 with value: 0.7336133573808074.\n",
      "\n",
      "--- Stage 2 Results ---\n",
      "✅ Best parameters from Stage 2 (includes Stage 1 best params):\n",
      "{'learning_rate': 0.010058801624786218, 'iterations': 6712}\n",
      "✅ Best AUC from Stage 2:\n",
      "0.7336133573808074\n"
     ]
    }
   ],
   "source": [
    "# --- Stage 2: Tune learning rate and iterations ---\n",
    "print(\"\\n--- Starting Stage 2: Tuning learning_rate and iterations ---\")\n",
    "\n",
    "def catboost_objective_stage2(trial):\n",
    "    # Use the best parameters from Stage 1 as a base\n",
    "    base_params = study_cat1.best_params.copy()\n",
    "\n",
    "    # Update with parameters to be tuned in this stage\n",
    "    base_params.update({\n",
    "        'learning_rate': trial.suggest_float('learning_rate', 0.01, 0.2, log=True),\n",
    "        'iterations': trial.suggest_int('iterations', 100, 10000), # Note: early_stopping_rounds will effectively cap this\n",
    "        'loss_function': 'Logloss',      # Fixed\n",
    "        'eval_metric': 'AUC',            # Fixed\n",
    "        'random_seed': 42,               # Fixed\n",
    "        'verbose': 0                     # Fixed\n",
    "    })\n",
    "\n",
    "    cv = StratifiedKFold(n_splits=5, shuffle=True, random_state=42)\n",
    "    aucs = []\n",
    "\n",
    "    for train_idx, valid_idx in cv.split(X_os, y_os):\n",
    "        X_train, X_valid = X_os.iloc[train_idx], X_os.iloc[valid_idx]\n",
    "        y_train, y_valid = y_os.iloc[train_idx], y_os.iloc[valid_idx]\n",
    "\n",
    "        train_pool = Pool(X_train, y_train)\n",
    "        valid_pool = Pool(X_valid, y_valid)\n",
    "\n",
    "        # early_stopping_rounds is important here, especially if 'iterations' can be large\n",
    "        model = CatBoostClassifier(**base_params) # iterations is now from base_params\n",
    "        model.fit(train_pool, eval_set=valid_pool, early_stopping_rounds=200, use_best_model=True)\n",
    "        \n",
    "        preds = model.predict_proba(X_valid)[:, 1]\n",
    "        auc = roc_auc_score(y_valid, preds)\n",
    "        aucs.append(auc)\n",
    "\n",
    "    return np.mean(aucs)\n",
    "\n",
    "# Create an Optuna study object and optimize\n",
    "study_cat2 = optuna.create_study(direction='maximize')\n",
    "# Note: n_jobs=50 is very high, ensure your machine has enough cores or adjust accordingly.\n",
    "study_cat2.optimize(catboost_objective_stage2, n_trials=50, n_jobs=5, show_progress_bar=True)\n",
    "\n",
    "print(\"\\n--- Stage 2 Results ---\")\n",
    "print(\"✅ Best parameters from Stage 2 (includes Stage 1 best params):\")\n",
    "print(study_cat2.best_params)\n",
    "print(\"✅ Best AUC from Stage 2:\")\n",
    "print(study_cat2.best_value)"
   ]
  },
  {
   "cell_type": "code",
   "execution_count": 15,
   "id": "4914af42-2a6d-4a79-a9de-1ae86cafd03b",
   "metadata": {},
   "outputs": [
    {
     "name": "stdout",
     "output_type": "stream",
     "text": [
      "\n",
      "--- Combined parameters after Stage 2 ---\n",
      "{'depth': 10, 'l2_leaf_reg': 5.723627043752613, 'min_data_in_leaf': 17, 'learning_rate': 0.010058801624786218, 'iterations': 6712}\n"
     ]
    }
   ],
   "source": [
    "# 组合 Stage 1 和 Stage 2 的最佳参数\n",
    "combined_params_after_stage2 = study_cat1.best_params.copy()\n",
    "combined_params_after_stage2.update(study_cat2.best_params)\n",
    "print(\"\\n--- Combined parameters after Stage 2 ---\")\n",
    "print(combined_params_after_stage2) # 这应该包含 depth, l2_leaf_reg, min_data_in_leaf, learning_rate, iterations"
   ]
  },
  {
   "cell_type": "code",
   "execution_count": null,
   "id": "e95254c0-c9d3-4a55-916c-b2d80283f1c0",
   "metadata": {},
   "outputs": [],
   "source": []
  },
  {
   "cell_type": "code",
   "execution_count": 17,
   "id": "17ee6749-3af1-4a57-996f-bfa05a85a404",
   "metadata": {},
   "outputs": [
    {
     "name": "stderr",
     "output_type": "stream",
     "text": [
      "[I 2025-05-20 10:59:19,738] A new study created in memory with name: no-name-7c964269-d4f4-4984-ba40-99db1a723259\n"
     ]
    },
    {
     "name": "stdout",
     "output_type": "stream",
     "text": [
      "\n",
      "--- Starting Stage 3: Tuning subsample and rsm (colsample_bylevel) ---\n"
     ]
    },
    {
     "data": {
      "application/vnd.jupyter.widget-view+json": {
       "model_id": "701abc71dc4d4a82b8b8b26e569ffd57",
       "version_major": 2,
       "version_minor": 0
      },
      "text/plain": [
       "  0%|          | 0/50 [00:00<?, ?it/s]"
      ]
     },
     "metadata": {},
     "output_type": "display_data"
    },
    {
     "name": "stdout",
     "output_type": "stream",
     "text": [
      "[I 2025-05-20 11:30:13,738] Trial 7 finished with value: 0.7333729663092543 and parameters: {'subsample': 0.5042717034689834, 'rsm': 0.7585242827038292}. Best is trial 7 with value: 0.7333729663092543.\n",
      "[I 2025-05-20 11:32:06,690] Trial 2 finished with value: 0.7334241784769135 and parameters: {'subsample': 0.7147566800314239, 'rsm': 0.7235105569470726}. Best is trial 2 with value: 0.7334241784769135.\n",
      "[I 2025-05-20 12:05:55,875] Trial 0 finished with value: 0.7334347900155579 and parameters: {'subsample': 0.6389603114751142, 'rsm': 0.6118798005907387}. Best is trial 0 with value: 0.7334347900155579.\n",
      "[I 2025-05-20 12:09:05,568] Trial 1 finished with value: 0.7333159344736597 and parameters: {'subsample': 0.8128572157525226, 'rsm': 0.5319436424761365}. Best is trial 0 with value: 0.7334347900155579.\n",
      "[I 2025-05-20 12:14:18,283] Trial 3 finished with value: 0.7331277980872632 and parameters: {'subsample': 0.9143578165165667, 'rsm': 0.9593658533398994}. Best is trial 0 with value: 0.7334347900155579.\n",
      "[I 2025-05-20 12:50:11,437] Trial 6 finished with value: 0.7331238831291409 and parameters: {'subsample': 0.985220999113172, 'rsm': 0.7771961623047903}. Best is trial 0 with value: 0.7334347900155579.\n",
      "[I 2025-05-20 12:51:00,939] Trial 4 finished with value: 0.7334016427716836 and parameters: {'subsample': 0.6901815028046869, 'rsm': 0.849795848261838}. Best is trial 0 with value: 0.7334347900155579.\n",
      "[I 2025-05-20 12:51:32,601] Trial 5 finished with value: 0.7334672674350643 and parameters: {'subsample': 0.6853543564838522, 'rsm': 0.724258812273743}. Best is trial 5 with value: 0.7334672674350643.\n",
      "[I 2025-05-20 13:20:39,224] Trial 8 finished with value: 0.7335169278804716 and parameters: {'subsample': 0.5224818458723577, 'rsm': 0.7365840399948336}. Best is trial 8 with value: 0.7335169278804716.\n",
      "[I 2025-05-20 13:24:08,740] Trial 9 finished with value: 0.7333776614653378 and parameters: {'subsample': 0.8109256100212799, 'rsm': 0.6590604446550763}. Best is trial 8 with value: 0.7335169278804716.\n",
      "[I 2025-05-20 13:25:11,285] Trial 10 finished with value: 0.7333518154674391 and parameters: {'subsample': 0.7542884287899332, 'rsm': 0.5964374632805087}. Best is trial 8 with value: 0.7335169278804716.\n",
      "[I 2025-05-20 14:04:42,490] Trial 12 finished with value: 0.733490603085805 and parameters: {'subsample': 0.717407769232481, 'rsm': 0.8431086522873544}. Best is trial 8 with value: 0.7335169278804716.\n",
      "[I 2025-05-20 14:05:27,150] Trial 11 finished with value: 0.733382085198219 and parameters: {'subsample': 0.9180101683639996, 'rsm': 0.8361348645635595}. Best is trial 8 with value: 0.7335169278804716.\n",
      "[I 2025-05-20 14:08:57,390] Trial 13 finished with value: 0.7334098932521597 and parameters: {'subsample': 0.7456781104595931, 'rsm': 0.6804904522563616}. Best is trial 8 with value: 0.7335169278804716.\n",
      "[I 2025-05-20 14:39:36,550] Trial 15 finished with value: 0.7333582636512617 and parameters: {'subsample': 0.7838973643819599, 'rsm': 0.5684365685038968}. Best is trial 8 with value: 0.7335169278804716.\n",
      "[I 2025-05-20 14:40:25,924] Trial 14 finished with value: 0.7335288430415565 and parameters: {'subsample': 0.6402222774157905, 'rsm': 0.9459216080391024}. Best is trial 14 with value: 0.7335288430415565.\n",
      "[I 2025-05-20 15:07:41,158] Trial 16 finished with value: 0.733387682265891 and parameters: {'subsample': 0.5897599345203488, 'rsm': 0.5086005412284937}. Best is trial 14 with value: 0.7335288430415565.\n",
      "[I 2025-05-20 15:12:18,089] Trial 18 finished with value: 0.7335550048114076 and parameters: {'subsample': 0.5072652790512788, 'rsm': 0.857168593437874}. Best is trial 18 with value: 0.7335550048114076.\n",
      "[I 2025-05-20 15:12:25,543] Trial 17 finished with value: 0.7335042589698064 and parameters: {'subsample': 0.5178921575898131, 'rsm': 0.9111802161814319}. Best is trial 18 with value: 0.7335550048114076.\n",
      "[I 2025-05-20 15:44:06,637] Trial 19 finished with value: 0.7334688133012403 and parameters: {'subsample': 0.5036936590603758, 'rsm': 0.9012100234672191}. Best is trial 18 with value: 0.7335550048114076.\n",
      "[I 2025-05-20 15:46:03,195] Trial 20 finished with value: 0.7335170392534213 and parameters: {'subsample': 0.503022950301111, 'rsm': 0.9393349243214242}. Best is trial 18 with value: 0.7335550048114076.\n",
      "[I 2025-05-20 15:47:11,449] Trial 21 finished with value: 0.7335465203843847 and parameters: {'subsample': 0.5031777267899589, 'rsm': 0.9795512785511811}. Best is trial 18 with value: 0.7335550048114076.\n",
      "[I 2025-05-20 16:19:50,498] Trial 22 finished with value: 0.7334811518360586 and parameters: {'subsample': 0.5493119986213171, 'rsm': 0.9534647539243633}. Best is trial 18 with value: 0.7335550048114076.\n",
      "[I 2025-05-20 16:21:30,505] Trial 23 finished with value: 0.7335537588166521 and parameters: {'subsample': 0.5311582083864275, 'rsm': 0.9967774441385837}. Best is trial 18 with value: 0.7335550048114076.\n",
      "[I 2025-05-20 16:22:31,802] Trial 24 finished with value: 0.733507062910699 and parameters: {'subsample': 0.5014582684078318, 'rsm': 0.9824250950968426}. Best is trial 18 with value: 0.7335550048114076.\n",
      "[I 2025-05-20 16:59:07,844] Trial 25 finished with value: 0.7334899899927316 and parameters: {'subsample': 0.5909019191991897, 'rsm': 0.9995236967398482}. Best is trial 18 with value: 0.7335550048114076.\n",
      "[I 2025-05-20 16:59:13,032] Trial 26 finished with value: 0.733546370912612 and parameters: {'subsample': 0.5772537275917644, 'rsm': 0.9842594677951223}. Best is trial 18 with value: 0.7335550048114076.\n",
      "[I 2025-05-20 17:02:38,971] Trial 27 finished with value: 0.7336283423095961 and parameters: {'subsample': 0.5910150119329233, 'rsm': 0.9949077181728889}. Best is trial 27 with value: 0.7336283423095961.\n",
      "[I 2025-05-20 17:37:28,363] Trial 28 finished with value: 0.7335070902149218 and parameters: {'subsample': 0.5900784801216418, 'rsm': 0.9788370800566362}. Best is trial 27 with value: 0.7336283423095961.\n",
      "[I 2025-05-20 17:38:05,321] Trial 29 finished with value: 0.7334322058306662 and parameters: {'subsample': 0.6020351859679585, 'rsm': 0.9955877941790577}. Best is trial 27 with value: 0.7336283423095961.\n",
      "[I 2025-05-20 18:10:36,896] Trial 30 finished with value: 0.7335045518821778 and parameters: {'subsample': 0.5915795842470113, 'rsm': 0.984195112054216}. Best is trial 27 with value: 0.7336283423095961.\n",
      "[I 2025-05-20 18:16:03,287] Trial 31 finished with value: 0.7335558715759433 and parameters: {'subsample': 0.5796885779322589, 'rsm': 0.995226542939398}. Best is trial 27 with value: 0.7336283423095961.\n",
      "[I 2025-05-20 18:16:34,785] Trial 32 finished with value: 0.7335496083349049 and parameters: {'subsample': 0.5767599850488692, 'rsm': 0.9882932429570946}. Best is trial 27 with value: 0.7336283423095961.\n",
      "[I 2025-05-20 18:52:33,986] Trial 33 finished with value: 0.7335622940397704 and parameters: {'subsample': 0.5727218694573896, 'rsm': 0.8875220023427058}. Best is trial 27 with value: 0.7336283423095961.\n",
      "[I 2025-05-20 18:55:12,420] Trial 34 finished with value: 0.7334959778894611 and parameters: {'subsample': 0.6398852228481172, 'rsm': 0.8827070122255618}. Best is trial 27 with value: 0.7336283423095961.\n",
      "[I 2025-05-20 18:55:44,746] Trial 35 finished with value: 0.7334896239202017 and parameters: {'subsample': 0.6320781820660113, 'rsm': 0.8864039431320507}. Best is trial 27 with value: 0.7336283423095961.\n",
      "[I 2025-05-20 19:32:40,130] Trial 36 finished with value: 0.7334829627084447 and parameters: {'subsample': 0.653304695269629, 'rsm': 0.8917901718174812}. Best is trial 27 with value: 0.7336283423095961.\n",
      "[I 2025-05-20 19:33:53,186] Trial 38 finished with value: 0.7335122519954342 and parameters: {'subsample': 0.5530906570397784, 'rsm': 0.8921564748661877}. Best is trial 27 with value: 0.7336283423095961.\n",
      "[I 2025-05-20 19:34:15,430] Trial 37 finished with value: 0.7334746071275866 and parameters: {'subsample': 0.6540197779042061, 'rsm': 0.883518231302287}. Best is trial 27 with value: 0.7336283423095961.\n",
      "[I 2025-05-20 20:11:00,986] Trial 39 finished with value: 0.7334307952775438 and parameters: {'subsample': 0.636372084314911, 'rsm': 0.88816694300734}. Best is trial 27 with value: 0.7336283423095961.\n",
      "[I 2025-05-20 20:12:18,313] Trial 40 finished with value: 0.7334747978796552 and parameters: {'subsample': 0.657758113463278, 'rsm': 0.8862368570192618}. Best is trial 27 with value: 0.7336283423095961.\n",
      "[I 2025-05-20 20:15:03,905] Trial 41 finished with value: 0.7334008533735856 and parameters: {'subsample': 0.6361566514960288, 'rsm': 0.8835706263491356}. Best is trial 27 with value: 0.7336283423095961.\n",
      "[I 2025-05-20 20:45:15,537] Trial 43 finished with value: 0.7335153246366575 and parameters: {'subsample': 0.5517729259587645, 'rsm': 0.8161465455242936}. Best is trial 27 with value: 0.7336283423095961.\n",
      "[I 2025-05-20 20:45:35,812] Trial 42 finished with value: 0.7334519664853539 and parameters: {'subsample': 0.6619065211257287, 'rsm': 0.8127660747890313}. Best is trial 27 with value: 0.7336283423095961.\n",
      "[I 2025-05-20 21:12:10,307] Trial 44 finished with value: 0.7334049005850602 and parameters: {'subsample': 0.5599142953906158, 'rsm': 0.7939613017612187}. Best is trial 27 with value: 0.7336283423095961.\n",
      "[I 2025-05-20 21:16:14,126] Trial 45 finished with value: 0.7334444891862356 and parameters: {'subsample': 0.5490845215719616, 'rsm': 0.7883528780839123}. Best is trial 27 with value: 0.7336283423095961.\n",
      "[I 2025-05-20 21:16:38,983] Trial 46 finished with value: 0.7334521017404205 and parameters: {'subsample': 0.5502678704230762, 'rsm': 0.7950840422772928}. Best is trial 27 with value: 0.7336283423095961.\n",
      "[I 2025-05-20 21:41:43,179] Trial 47 finished with value: 0.7335465250394997 and parameters: {'subsample': 0.5432787304088972, 'rsm': 0.7967107345449854}. Best is trial 27 with value: 0.7336283423095961.\n",
      "[I 2025-05-20 21:42:49,615] Trial 48 finished with value: 0.7335021019239573 and parameters: {'subsample': 0.5422413040115682, 'rsm': 0.8170417340727536}. Best is trial 27 with value: 0.7336283423095961.\n",
      "[I 2025-05-20 21:42:55,693] Trial 49 finished with value: 0.7335524795954493 and parameters: {'subsample': 0.5499221409575188, 'rsm': 0.8001057484599341}. Best is trial 27 with value: 0.7336283423095961.\n",
      "\n",
      "--- Stage 3 Results ---\n",
      "✅ Best parameters from Stage 3 (includes best from Stage 1 & 2):\n",
      "{'subsample': 0.5910150119329233, 'rsm': 0.9949077181728889}\n",
      "✅ Final combined best parameters after Stage 3:\n",
      "{'depth': 10, 'l2_leaf_reg': 5.723627043752613, 'min_data_in_leaf': 17, 'learning_rate': 0.010058801624786218, 'iterations': 6712, 'subsample': 0.5910150119329233, 'rsm': 0.9949077181728889}\n",
      "✅ Best AUC from Stage 3:\n",
      "0.7336283423095961\n"
     ]
    }
   ],
   "source": [
    "# --- Stage 3: Tune subsampling parameters ---\n",
    "print(\"\\n--- Starting Stage 3: Tuning subsample and rsm (colsample_bylevel) ---\")\n",
    "\n",
    "# Use the best parameters from Stage 2 as a base\n",
    "base_params_stage3 = combined_params_after_stage2.copy() # Renamed to avoid confusion with internal 'base_params'\n",
    "\n",
    "def catboost_objective_stage3(trial):\n",
    "    params = base_params_stage3.copy()\n",
    "    \n",
    "    # Add parameters to be tuned in this stage\n",
    "    params.update({\n",
    "        'subsample': trial.suggest_float('subsample', 0.5, 1.0),       # Row subsampling\n",
    "        'rsm': trial.suggest_float('rsm', 0.5, 1.0),                   # Column subsampling by level (colsample_bylevel)\n",
    "        'loss_function': 'Logloss',   # Usually fixed based on problem\n",
    "        'eval_metric': 'AUC',         # Usually fixed based on problem\n",
    "        'random_seed': 42,\n",
    "        'verbose': 0\n",
    "        # iterations and learning_rate are taken from base_params_stage3 (best of Stage 2)\n",
    "        # early_stopping_rounds is not explicitly used with cross_val_score here in the same way,\n",
    "        # CatBoost will use its internal logic for early stopping if iterations is high enough\n",
    "        # and an eval_set is internally created or if it's set and no eval_set is provided in fit.\n",
    "        # If you want explicit early stopping per fold here, you'd need a manual loop like in stage 1 & 2.\n",
    "    })\n",
    "    \n",
    "    model = CatBoostClassifier(**params)\n",
    "    \n",
    "    # 5-fold cross-validation using scikit-learn's cross_val_score\n",
    "    cv_strategy = StratifiedKFold(n_splits=5, shuffle=True, random_state=42) # Renamed for clarity\n",
    "    # n_jobs=-1 in cross_val_score will use all available cores for fitting models for different folds\n",
    "    # This is different from Optuna's n_jobs, which parallelizes trials.\n",
    "    scores = cross_val_score(model, X_os, y_os, cv=cv_strategy, scoring='roc_auc', n_jobs=-1) \n",
    "    \n",
    "    return scores.mean()\n",
    "\n",
    "# Create an Optuna study object and optimize\n",
    "study_cat3 = optuna.create_study(direction='maximize')\n",
    "# Note: n_jobs=50 is very high, ensure your machine has enough cores or adjust accordingly for Optuna trials.\n",
    "study_cat3.optimize(catboost_objective_stage3, n_trials=50, n_jobs=8, show_progress_bar=True)\n",
    "\n",
    "# View results\n",
    "print(\"\\n--- Stage 3 Results ---\")\n",
    "print(\"✅ Best parameters from Stage 3 (includes best from Stage 1 & 2):\")\n",
    "print(study_cat3.best_params) # These are only 'subsample' and 'rsm'\n",
    "print(\"✅ Final combined best parameters after Stage 3:\")\n",
    "final_best_params = base_params_stage3.copy()\n",
    "final_best_params.update(study_cat3.best_params)\n",
    "print(final_best_params)\n",
    "print(\"✅ Best AUC from Stage 3:\")\n",
    "print(study_cat3.best_value)\n"
   ]
  },
  {
   "cell_type": "code",
   "execution_count": 18,
   "id": "c546301e-8bb8-46bd-b746-f902f3b3c7e0",
   "metadata": {},
   "outputs": [
    {
     "data": {
      "text/plain": [
       "{'depth': 10,\n",
       " 'l2_leaf_reg': 5.723627043752613,\n",
       " 'min_data_in_leaf': 17,\n",
       " 'learning_rate': 0.010058801624786218,\n",
       " 'iterations': 6712,\n",
       " 'subsample': 0.5910150119329233,\n",
       " 'rsm': 0.9949077181728889}"
      ]
     },
     "execution_count": 18,
     "metadata": {},
     "output_type": "execute_result"
    }
   ],
   "source": [
    "final_best_params"
   ]
  },
  {
   "cell_type": "code",
   "execution_count": 19,
   "id": "57348ab0-5bea-4db9-a30c-0cb0012f5caf",
   "metadata": {},
   "outputs": [],
   "source": [
    "final_catboost_params = final_best_params.copy()"
   ]
  },
  {
   "cell_type": "code",
   "execution_count": 20,
   "id": "61b89ff8-8d3f-41d5-9898-2e2d84da0284",
   "metadata": {},
   "outputs": [],
   "source": [
    "final_catboost_params['loss_function'] = 'Logloss'\n",
    "final_catboost_params['eval_metric'] = 'AUC'\n",
    "final_catboost_params['random_seed'] = 42\n",
    "final_catboost_params['early_stopping_rounds'] = 200\n",
    "final_catboost_params['verbose'] = 200"
   ]
  },
  {
   "cell_type": "code",
   "execution_count": 21,
   "id": "1e7e213a-a047-45d6-859e-8c05a59ca525",
   "metadata": {},
   "outputs": [
    {
     "name": "stdout",
     "output_type": "stream",
     "text": [
      "Final training set size: 574103\n",
      "Finale validation set size: 63790\n"
     ]
    }
   ],
   "source": [
    "from sklearn.model_selection import train_test_split\n",
    "\n",
    "X_train_final, X_val_final, y_train_final, y_val_final = train_test_split(\n",
    "    X_os,\n",
    "    y_os,\n",
    "    test_size=0.1,\n",
    "    random_state=42,\n",
    "    stratify=y_os\n",
    ")\n",
    "print(f\"Final training set size: {X_train_final.shape[0]}\")\n",
    "print(f\"Finale validation set size: {X_val_final.shape[0]}\")"
   ]
  },
  {
   "cell_type": "code",
   "execution_count": 23,
   "id": "166dbca9-439d-42ec-8e2c-6aa39e784165",
   "metadata": {},
   "outputs": [
    {
     "name": "stdout",
     "output_type": "stream",
     "text": [
      "0:\ttest: 0.6831309\tbest: 0.6831309 (0)\ttotal: 21.1ms\tremaining: 2m 21s\n",
      "200:\ttest: 0.7182047\tbest: 0.7182047 (200)\ttotal: 7.26s\tremaining: 3m 55s\n",
      "400:\ttest: 0.7231435\tbest: 0.7231435 (400)\ttotal: 14.7s\tremaining: 3m 51s\n",
      "600:\ttest: 0.7253156\tbest: 0.7253156 (600)\ttotal: 22.1s\tremaining: 3m 45s\n",
      "800:\ttest: 0.7267096\tbest: 0.7267096 (800)\ttotal: 29.7s\tremaining: 3m 39s\n",
      "1000:\ttest: 0.7277902\tbest: 0.7277902 (1000)\ttotal: 37.2s\tremaining: 3m 32s\n",
      "1200:\ttest: 0.7286408\tbest: 0.7286408 (1200)\ttotal: 44.7s\tremaining: 3m 25s\n",
      "1400:\ttest: 0.7294325\tbest: 0.7294325 (1400)\ttotal: 52.3s\tremaining: 3m 18s\n",
      "1600:\ttest: 0.7301421\tbest: 0.7301421 (1600)\ttotal: 59.8s\tremaining: 3m 10s\n",
      "1800:\ttest: 0.7307466\tbest: 0.7307466 (1800)\ttotal: 1m 7s\tremaining: 3m 3s\n",
      "2000:\ttest: 0.7311666\tbest: 0.7311666 (2000)\ttotal: 1m 14s\tremaining: 2m 56s\n",
      "2200:\ttest: 0.7314669\tbest: 0.7314730 (2197)\ttotal: 1m 22s\tremaining: 2m 48s\n",
      "2400:\ttest: 0.7317601\tbest: 0.7317601 (2400)\ttotal: 1m 29s\tremaining: 2m 41s\n",
      "2600:\ttest: 0.7319805\tbest: 0.7319805 (2600)\ttotal: 1m 37s\tremaining: 2m 33s\n",
      "2800:\ttest: 0.7322117\tbest: 0.7322128 (2799)\ttotal: 1m 44s\tremaining: 2m 26s\n",
      "3000:\ttest: 0.7324799\tbest: 0.7324822 (2999)\ttotal: 1m 52s\tremaining: 2m 18s\n",
      "3200:\ttest: 0.7327205\tbest: 0.7327209 (3195)\ttotal: 1m 59s\tremaining: 2m 11s\n",
      "3400:\ttest: 0.7328404\tbest: 0.7328404 (3400)\ttotal: 2m 7s\tremaining: 2m 3s\n",
      "3600:\ttest: 0.7328993\tbest: 0.7328993 (3600)\ttotal: 2m 14s\tremaining: 1m 56s\n",
      "3800:\ttest: 0.7330671\tbest: 0.7330671 (3800)\ttotal: 2m 22s\tremaining: 1m 48s\n",
      "4000:\ttest: 0.7331896\tbest: 0.7331914 (3997)\ttotal: 2m 29s\tremaining: 1m 41s\n",
      "4200:\ttest: 0.7332948\tbest: 0.7332948 (4200)\ttotal: 2m 37s\tremaining: 1m 34s\n",
      "4400:\ttest: 0.7333918\tbest: 0.7333918 (4400)\ttotal: 2m 44s\tremaining: 1m 26s\n",
      "4600:\ttest: 0.7334377\tbest: 0.7334432 (4596)\ttotal: 2m 52s\tremaining: 1m 19s\n",
      "4800:\ttest: 0.7335092\tbest: 0.7335240 (4769)\ttotal: 2m 59s\tremaining: 1m 11s\n",
      "5000:\ttest: 0.7335617\tbest: 0.7335713 (4901)\ttotal: 3m 7s\tremaining: 1m 4s\n",
      "5200:\ttest: 0.7335883\tbest: 0.7335973 (5192)\ttotal: 3m 14s\tremaining: 56.6s\n",
      "5400:\ttest: 0.7336312\tbest: 0.7336357 (5393)\ttotal: 3m 22s\tremaining: 49.1s\n",
      "5600:\ttest: 0.7336705\tbest: 0.7336965 (5569)\ttotal: 3m 29s\tremaining: 41.7s\n",
      "5800:\ttest: 0.7336908\tbest: 0.7337017 (5748)\ttotal: 3m 37s\tremaining: 34.1s\n",
      "Stopped by overfitting detector  (200 iterations wait)\n",
      "\n",
      "bestTest = 0.7337017188\n",
      "bestIteration = 5748\n",
      "\n",
      "Shrink model to first 5749 iterations.\n",
      "Number of trees in the final model: 5749\n",
      "Best iteration found: 5748\n",
      "Best AUC on internal eval set: 0.7337\n",
      "\n",
      "Final CatBoost model saved to: final_catboost_model.cbm\n"
     ]
    }
   ],
   "source": [
    "final_cat_model = CatBoostClassifier(**final_catboost_params)\n",
    "\n",
    "final_cat_model.fit(\n",
    "    X_train_final, y_train_final,\n",
    "    eval_set=(X_val_final, y_val_final),\n",
    "    use_best_model=True\n",
    ")\n",
    "\n",
    "print(f\"Number of trees in the final model: {final_model.tree_count_}\")\n",
    "if 'early_stopping_rounds' in final_catboost_params:\n",
    "    print(f\"Best iteration found: {final_model.get_best_iteration()}\")\n",
    "    best_score_dict = final_model.get_best_score()\n",
    "    if best_score_dict and 'validation' in best_score_dict and 'AUC' in best_score_dict['validation']:\n",
    "         print(f\"Best AUC on internal eval set: {best_score_dict['validation']['AUC']:.4f}\")\n",
    "\n",
    "\n",
    "model_filename = \"final_catboost_model.cbm\"\n",
    "final_model.save_model(model_filename)\n",
    "print(f\"\\nFinal CatBoost model saved to: {model_filename}\")"
   ]
  },
  {
   "cell_type": "code",
   "execution_count": 24,
   "id": "6256b521-2e4f-4b0b-a60f-0f020dbcd884",
   "metadata": {},
   "outputs": [
    {
     "data": {
      "text/plain": [
       "array([0.06242694, 0.34097979, 0.57373119, ..., 0.12556377, 0.23872086,\n",
       "       0.02546471])"
      ]
     },
     "execution_count": 24,
     "metadata": {},
     "output_type": "execute_result"
    }
   ],
   "source": [
    "cat_preds_proba = final_cat_model.predict_proba(test_os)[:, 1]\n",
    "cat_preds_proba"
   ]
  },
  {
   "cell_type": "code",
   "execution_count": 32,
   "id": "58b64229-882f-4bba-afb7-dd151139f074",
   "metadata": {},
   "outputs": [
    {
     "name": "stdout",
     "output_type": "stream",
     "text": [
      "XGBoost model loaded successfully\n"
     ]
    }
   ],
   "source": [
    "import pickle\n",
    "try:\n",
    "    with open(\"final_xgboost_model.pkl\", \"rb\") as file:\n",
    "        final_xgb_model = pickle.load(file)\n",
    "        print(\"XGBoost model loaded successfully\")\n",
    "except Exception as e:\n",
    "    print(f\"An error occurred while loading: {e}\")"
   ]
  },
  {
   "cell_type": "code",
   "execution_count": 33,
   "id": "bf457958-a18b-4fd3-9f7d-8463db89994a",
   "metadata": {},
   "outputs": [
    {
     "data": {
      "text/plain": [
       "array([0.07499005, 0.31878033, 0.580858  , ..., 0.2387279 , 0.24399339,\n",
       "       0.02313996], dtype=float32)"
      ]
     },
     "execution_count": 33,
     "metadata": {},
     "output_type": "execute_result"
    }
   ],
   "source": [
    "xgb_preds_proba = final_xgb_model.predict_proba(test_os)[:, 1]\n",
    "xgb_preds_proba"
   ]
  },
  {
   "cell_type": "code",
   "execution_count": 34,
   "id": "f264a49d-79da-484a-9635-9b4e9fc047f0",
   "metadata": {},
   "outputs": [
    {
     "data": {
      "text/plain": [
       "array([0.0687085 , 0.32988006, 0.57729459, ..., 0.18214583, 0.24135712,\n",
       "       0.02430233])"
      ]
     },
     "execution_count": 34,
     "metadata": {},
     "output_type": "execute_result"
    }
   ],
   "source": [
    "simple_avg_preds = (cat_preds_proba + xgb_preds_proba) / 2\n",
    "simple_avg_preds"
   ]
  },
  {
   "cell_type": "code",
   "execution_count": 35,
   "id": "3885f7b8-603e-4909-b128-f6e94c223547",
   "metadata": {},
   "outputs": [],
   "source": [
    "testA = pd.read_csv('testA.csv')\n",
    "test_ids = testA['id']\n",
    "\n",
    "submission = pd.DataFrame({\n",
    "    'id': test_ids,\n",
    "    'isDefault': simple_avg_preds\n",
    "})\n",
    "\n",
    "submission.to_csv('submit.csv', index=False)"
   ]
  },
  {
   "cell_type": "code",
   "execution_count": null,
   "id": "a400771a-2720-4e92-a4ec-fa80f44fda70",
   "metadata": {},
   "outputs": [],
   "source": []
  }
 ],
 "metadata": {
  "kernelspec": {
   "display_name": "Python 3 (ipykernel)",
   "language": "python",
   "name": "python3"
  },
  "language_info": {
   "codemirror_mode": {
    "name": "ipython",
    "version": 3
   },
   "file_extension": ".py",
   "mimetype": "text/x-python",
   "name": "python",
   "nbconvert_exporter": "python",
   "pygments_lexer": "ipython3",
   "version": "3.12.5"
  }
 },
 "nbformat": 4,
 "nbformat_minor": 5
}
